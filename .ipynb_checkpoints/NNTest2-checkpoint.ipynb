{
 "cells": [
  {
   "cell_type": "code",
   "execution_count": 6,
   "metadata": {},
   "outputs": [],
   "source": [
    "import pandas as pd\n",
    "import numpy as np\n",
    "from sklearn import metrics, model_selection, ensemble, neighbors, svm, tree, neural_network, base\n",
    "import matplotlib.pyplot as plt\n",
    "\n",
    "import importlib\n",
    "import datetime\n",
    "import mlTest\n",
    "import preprocessing\n",
    "importlib.reload(mlTest)\n",
    "importlib.reload(preprocessing)\n",
    "df = pd.read_csv(\"data/magic04.data\", header=None)\n",
    "df = preprocessing.convert_numeric(df, [10])\n",
    "X, y = preprocessing.XySplit(df, 10)\n",
    "X_train, X_val, X_test, X_train_val, y_train, y_val, y_test, y_train_val = mlTest.train_val_test_split(X, y, train_size=0.8, val_size=0.1)\n"
   ]
  },
  {
   "cell_type": "code",
   "execution_count": 7,
   "metadata": {},
   "outputs": [],
   "source": [
    "def transform_to_weights(a, shapes):\n",
    "    weights = []\n",
    "    start = 0\n",
    "    for s in shapes:\n",
    "        weight = a[start : start + (s[0] - 1) * s[1]].reshape((s[0]-1 , s[1]))\n",
    "        start += (s[0] - 1) * s[1]\n",
    "        bias = a[start : start + s[1]].reshape(s[1])\n",
    "        start += s[1]\n",
    "        weights.append((weight, bias))\n",
    "    return weights\n",
    "\n",
    "def set_weights(model, weights):\n",
    "    for i in range(len(model.layers)):\n",
    "#         print(model.layers[i].get_weights()[0].shape)\n",
    "#         print(weights[i].shape)\n",
    "        model.layers[i].set_weights(weights[i])\n",
    "num_weights=397"
   ]
  },
  {
   "cell_type": "code",
   "execution_count": 9,
   "metadata": {
    "scrolled": true
   },
   "outputs": [
    {
     "data": {
      "text/plain": [
       "<module 'mlrose.algorithms' from 'C:\\\\Users\\\\Chunlok Lo\\\\Documents\\\\cs4641\\\\random_opt\\\\impl\\\\mlrose\\\\algorithms.py'>"
      ]
     },
     "execution_count": 9,
     "metadata": {},
     "output_type": "execute_result"
    }
   ],
   "source": [
    "import mlrose\n",
    "from mlrose import opt_probs, algorithms\n",
    "from mlrose import fitness as fitness\n",
    "import importlib\n",
    "importlib.reload(mlrose.opt_probs)\n",
    "importlib.reload(mlrose.algorithms)"
   ]
  },
  {
   "cell_type": "code",
   "execution_count": 10,
   "metadata": {},
   "outputs": [],
   "source": [
    "NN_ARCHITECTURE = [\n",
    "    {\"input_dim\": 10, \"output_dim\": 20, \"activation\": \"relu\"},\n",
    "    {\"input_dim\": 20, \"output_dim\": 8, \"activation\": \"relu\"},\n",
    "    {\"input_dim\": 8, \"output_dim\": 1, \"activation\": \"sigmoid\"},\n",
    "]\n",
    "\n",
    "def init_layers(nn_architecture, seed = 99):\n",
    "    # random seed initiation\n",
    "    np.random.seed(seed)\n",
    "    # number of layers in our neural network\n",
    "    number_of_layers = len(nn_architecture)\n",
    "    # parameters storage initiation\n",
    "    params_values = {}\n",
    "    \n",
    "    # iteration over network layers\n",
    "    for idx, layer in enumerate(nn_architecture):\n",
    "        # we number network layers from 1\n",
    "        layer_idx = idx + 1\n",
    "        \n",
    "        # extracting the number of units in layers\n",
    "        layer_input_size = layer[\"input_dim\"]\n",
    "        layer_output_size = layer[\"output_dim\"]\n",
    "        \n",
    "        # initiating the values of the W matrix\n",
    "        # and vector b for subsequent layers\n",
    "        params_values['W' + str(layer_idx)] = np.random.randn(\n",
    "            layer_output_size, layer_input_size) * 0.1\n",
    "        params_values['b' + str(layer_idx)] = np.random.randn(\n",
    "            layer_output_size, 1) * 0.1\n",
    "        \n",
    "    return params_values\n",
    "\n",
    "\n",
    "def sigmoid(Z):\n",
    "    return 1/(1+np.exp(-Z))\n",
    "\n",
    "def relu(Z):\n",
    "    return np.maximum(0,Z)\n",
    "\n",
    "def sigmoid_backward(dA, Z):\n",
    "    sig = sigmoid(Z)\n",
    "    return dA * sig * (1 - sig)\n",
    "\n",
    "def relu_backward(dA, Z):\n",
    "    dZ = np.array(dA, copy = True)\n",
    "    dZ[Z <= 0] = 0;\n",
    "    return dZ;\n",
    "\n",
    "\n",
    "def single_layer_forward_propagation(A_prev, W_curr, b_curr, activation=\"relu\"):\n",
    "    # calculation of the input value for the activation function\n",
    "#     print(W_curr.shape, A_prev.shape)\n",
    "    Z_curr = np.matmul(W_curr, A_prev) + b_curr.reshape(b_curr.shape[0], 1)\n",
    "    \n",
    "    # selection of activation function\n",
    "    if activation is \"relu\":\n",
    "        activation_func = relu\n",
    "    elif activation is \"sigmoid\":\n",
    "        activation_func = sigmoid\n",
    "    else:\n",
    "        raise Exception('Non-supported activation function')\n",
    "        \n",
    "    # return of calculated activation A and the intermediate Z matrix\n",
    "    return activation_func(Z_curr), Z_curr\n",
    "\n",
    "def full_forward_propagation(X, params_values, nn_architecture):\n",
    "    # creating a temporary memory to store the information needed for a backward step\n",
    "    memory = {}\n",
    "    # X vector is the activation for layer 0 \n",
    "    A_curr = X\n",
    "    \n",
    "    # iteration over network layers\n",
    "    for idx, layer in enumerate(nn_architecture):\n",
    "        # we number network layers from 1\n",
    "        layer_idx = idx + 1\n",
    "        # transfer the activation from the previous iteration\n",
    "        A_prev = A_curr\n",
    "        \n",
    "        # extraction of the activation function for the current layer\n",
    "        activ_function_curr = layer[\"activation\"]\n",
    "        # extraction of W for the current layer\n",
    "        W_curr = params_values[idx][0].transpose()\n",
    "        # extraction of b for the current layer\n",
    "        b_curr = params_values[idx][1]\n",
    "        # calculation of activation for the current layer\n",
    "        A_curr, Z_curr = single_layer_forward_propagation(A_prev, W_curr, b_curr, activ_function_curr)\n",
    "        \n",
    "        # saving calculated values in the memory\n",
    "        memory[\"A\" + str(idx)] = A_prev\n",
    "        memory[\"Z\" + str(layer_idx)] = Z_curr\n",
    "       \n",
    "    # return of prediction vector and a dictionary containing intermediate values\n",
    "    return A_curr, memory\n",
    "\n",
    "def transform_to_weights_np(a, shapes):\n",
    "    weights = []\n",
    "    start = 0\n",
    "    for s in shapes:\n",
    "        weight = a[start : start + (s[0] - 1) * s[1]].reshape((s[0]-1 , s[1]))\n",
    "        start += (s[0] - 1) * s[1]\n",
    "        bias = a[start : start + s[1]].reshape(s[1])\n",
    "        start += s[1]\n",
    "        weights.append((weight, bias))\n",
    "    return weights"
   ]
  },
  {
   "cell_type": "code",
   "execution_count": 12,
   "metadata": {
    "scrolled": true
   },
   "outputs": [
    {
     "data": {
      "text/plain": [
       "(array([[1., 1., 1., 1., 1., 1., 1., 1., 1., 1., 1., 1., 1., 1., 1., 1.,\n",
       "         1., 1., 1., 1.]]),\n",
       " {'A0': array([0, 0, 0, 0, 0, 0, 0, 0, 0, 0]),\n",
       "  'Z1': array([[200., 200., 200., 200., 200., 200., 200., 200., 200., 200., 200.,\n",
       "          200., 200., 200., 200., 200., 200., 200., 200., 200.],\n",
       "         [201., 201., 201., 201., 201., 201., 201., 201., 201., 201., 201.,\n",
       "          201., 201., 201., 201., 201., 201., 201., 201., 201.],\n",
       "         [202., 202., 202., 202., 202., 202., 202., 202., 202., 202., 202.,\n",
       "          202., 202., 202., 202., 202., 202., 202., 202., 202.],\n",
       "         [203., 203., 203., 203., 203., 203., 203., 203., 203., 203., 203.,\n",
       "          203., 203., 203., 203., 203., 203., 203., 203., 203.],\n",
       "         [204., 204., 204., 204., 204., 204., 204., 204., 204., 204., 204.,\n",
       "          204., 204., 204., 204., 204., 204., 204., 204., 204.],\n",
       "         [205., 205., 205., 205., 205., 205., 205., 205., 205., 205., 205.,\n",
       "          205., 205., 205., 205., 205., 205., 205., 205., 205.],\n",
       "         [206., 206., 206., 206., 206., 206., 206., 206., 206., 206., 206.,\n",
       "          206., 206., 206., 206., 206., 206., 206., 206., 206.],\n",
       "         [207., 207., 207., 207., 207., 207., 207., 207., 207., 207., 207.,\n",
       "          207., 207., 207., 207., 207., 207., 207., 207., 207.],\n",
       "         [208., 208., 208., 208., 208., 208., 208., 208., 208., 208., 208.,\n",
       "          208., 208., 208., 208., 208., 208., 208., 208., 208.],\n",
       "         [209., 209., 209., 209., 209., 209., 209., 209., 209., 209., 209.,\n",
       "          209., 209., 209., 209., 209., 209., 209., 209., 209.],\n",
       "         [210., 210., 210., 210., 210., 210., 210., 210., 210., 210., 210.,\n",
       "          210., 210., 210., 210., 210., 210., 210., 210., 210.],\n",
       "         [211., 211., 211., 211., 211., 211., 211., 211., 211., 211., 211.,\n",
       "          211., 211., 211., 211., 211., 211., 211., 211., 211.],\n",
       "         [212., 212., 212., 212., 212., 212., 212., 212., 212., 212., 212.,\n",
       "          212., 212., 212., 212., 212., 212., 212., 212., 212.],\n",
       "         [213., 213., 213., 213., 213., 213., 213., 213., 213., 213., 213.,\n",
       "          213., 213., 213., 213., 213., 213., 213., 213., 213.],\n",
       "         [214., 214., 214., 214., 214., 214., 214., 214., 214., 214., 214.,\n",
       "          214., 214., 214., 214., 214., 214., 214., 214., 214.],\n",
       "         [215., 215., 215., 215., 215., 215., 215., 215., 215., 215., 215.,\n",
       "          215., 215., 215., 215., 215., 215., 215., 215., 215.],\n",
       "         [216., 216., 216., 216., 216., 216., 216., 216., 216., 216., 216.,\n",
       "          216., 216., 216., 216., 216., 216., 216., 216., 216.],\n",
       "         [217., 217., 217., 217., 217., 217., 217., 217., 217., 217., 217.,\n",
       "          217., 217., 217., 217., 217., 217., 217., 217., 217.],\n",
       "         [218., 218., 218., 218., 218., 218., 218., 218., 218., 218., 218.,\n",
       "          218., 218., 218., 218., 218., 218., 218., 218., 218.],\n",
       "         [219., 219., 219., 219., 219., 219., 219., 219., 219., 219., 219.,\n",
       "          219., 219., 219., 219., 219., 219., 219., 219., 219.]]),\n",
       "  'A1': array([[200., 200., 200., 200., 200., 200., 200., 200., 200., 200., 200.,\n",
       "          200., 200., 200., 200., 200., 200., 200., 200., 200.],\n",
       "         [201., 201., 201., 201., 201., 201., 201., 201., 201., 201., 201.,\n",
       "          201., 201., 201., 201., 201., 201., 201., 201., 201.],\n",
       "         [202., 202., 202., 202., 202., 202., 202., 202., 202., 202., 202.,\n",
       "          202., 202., 202., 202., 202., 202., 202., 202., 202.],\n",
       "         [203., 203., 203., 203., 203., 203., 203., 203., 203., 203., 203.,\n",
       "          203., 203., 203., 203., 203., 203., 203., 203., 203.],\n",
       "         [204., 204., 204., 204., 204., 204., 204., 204., 204., 204., 204.,\n",
       "          204., 204., 204., 204., 204., 204., 204., 204., 204.],\n",
       "         [205., 205., 205., 205., 205., 205., 205., 205., 205., 205., 205.,\n",
       "          205., 205., 205., 205., 205., 205., 205., 205., 205.],\n",
       "         [206., 206., 206., 206., 206., 206., 206., 206., 206., 206., 206.,\n",
       "          206., 206., 206., 206., 206., 206., 206., 206., 206.],\n",
       "         [207., 207., 207., 207., 207., 207., 207., 207., 207., 207., 207.,\n",
       "          207., 207., 207., 207., 207., 207., 207., 207., 207.],\n",
       "         [208., 208., 208., 208., 208., 208., 208., 208., 208., 208., 208.,\n",
       "          208., 208., 208., 208., 208., 208., 208., 208., 208.],\n",
       "         [209., 209., 209., 209., 209., 209., 209., 209., 209., 209., 209.,\n",
       "          209., 209., 209., 209., 209., 209., 209., 209., 209.],\n",
       "         [210., 210., 210., 210., 210., 210., 210., 210., 210., 210., 210.,\n",
       "          210., 210., 210., 210., 210., 210., 210., 210., 210.],\n",
       "         [211., 211., 211., 211., 211., 211., 211., 211., 211., 211., 211.,\n",
       "          211., 211., 211., 211., 211., 211., 211., 211., 211.],\n",
       "         [212., 212., 212., 212., 212., 212., 212., 212., 212., 212., 212.,\n",
       "          212., 212., 212., 212., 212., 212., 212., 212., 212.],\n",
       "         [213., 213., 213., 213., 213., 213., 213., 213., 213., 213., 213.,\n",
       "          213., 213., 213., 213., 213., 213., 213., 213., 213.],\n",
       "         [214., 214., 214., 214., 214., 214., 214., 214., 214., 214., 214.,\n",
       "          214., 214., 214., 214., 214., 214., 214., 214., 214.],\n",
       "         [215., 215., 215., 215., 215., 215., 215., 215., 215., 215., 215.,\n",
       "          215., 215., 215., 215., 215., 215., 215., 215., 215.],\n",
       "         [216., 216., 216., 216., 216., 216., 216., 216., 216., 216., 216.,\n",
       "          216., 216., 216., 216., 216., 216., 216., 216., 216.],\n",
       "         [217., 217., 217., 217., 217., 217., 217., 217., 217., 217., 217.,\n",
       "          217., 217., 217., 217., 217., 217., 217., 217., 217.],\n",
       "         [218., 218., 218., 218., 218., 218., 218., 218., 218., 218., 218.,\n",
       "          218., 218., 218., 218., 218., 218., 218., 218., 218.],\n",
       "         [219., 219., 219., 219., 219., 219., 219., 219., 219., 219., 219.,\n",
       "          219., 219., 219., 219., 219., 219., 219., 219., 219.]]),\n",
       "  'Z2': array([[1245940., 1245940., 1245940., 1245940., 1245940., 1245940.,\n",
       "          1245940., 1245940., 1245940., 1245940., 1245940., 1245940.,\n",
       "          1245940., 1245940., 1245940., 1245940., 1245940., 1245940.,\n",
       "          1245940., 1245940.],\n",
       "         [1250131., 1250131., 1250131., 1250131., 1250131., 1250131.,\n",
       "          1250131., 1250131., 1250131., 1250131., 1250131., 1250131.,\n",
       "          1250131., 1250131., 1250131., 1250131., 1250131., 1250131.,\n",
       "          1250131., 1250131.],\n",
       "         [1254322., 1254322., 1254322., 1254322., 1254322., 1254322.,\n",
       "          1254322., 1254322., 1254322., 1254322., 1254322., 1254322.,\n",
       "          1254322., 1254322., 1254322., 1254322., 1254322., 1254322.,\n",
       "          1254322., 1254322.],\n",
       "         [1258513., 1258513., 1258513., 1258513., 1258513., 1258513.,\n",
       "          1258513., 1258513., 1258513., 1258513., 1258513., 1258513.,\n",
       "          1258513., 1258513., 1258513., 1258513., 1258513., 1258513.,\n",
       "          1258513., 1258513.],\n",
       "         [1262704., 1262704., 1262704., 1262704., 1262704., 1262704.,\n",
       "          1262704., 1262704., 1262704., 1262704., 1262704., 1262704.,\n",
       "          1262704., 1262704., 1262704., 1262704., 1262704., 1262704.,\n",
       "          1262704., 1262704.],\n",
       "         [1266895., 1266895., 1266895., 1266895., 1266895., 1266895.,\n",
       "          1266895., 1266895., 1266895., 1266895., 1266895., 1266895.,\n",
       "          1266895., 1266895., 1266895., 1266895., 1266895., 1266895.,\n",
       "          1266895., 1266895.],\n",
       "         [1271086., 1271086., 1271086., 1271086., 1271086., 1271086.,\n",
       "          1271086., 1271086., 1271086., 1271086., 1271086., 1271086.,\n",
       "          1271086., 1271086., 1271086., 1271086., 1271086., 1271086.,\n",
       "          1271086., 1271086.],\n",
       "         [1275277., 1275277., 1275277., 1275277., 1275277., 1275277.,\n",
       "          1275277., 1275277., 1275277., 1275277., 1275277., 1275277.,\n",
       "          1275277., 1275277., 1275277., 1275277., 1275277., 1275277.,\n",
       "          1275277., 1275277.]]),\n",
       "  'A2': array([[1245940., 1245940., 1245940., 1245940., 1245940., 1245940.,\n",
       "          1245940., 1245940., 1245940., 1245940., 1245940., 1245940.,\n",
       "          1245940., 1245940., 1245940., 1245940., 1245940., 1245940.,\n",
       "          1245940., 1245940.],\n",
       "         [1250131., 1250131., 1250131., 1250131., 1250131., 1250131.,\n",
       "          1250131., 1250131., 1250131., 1250131., 1250131., 1250131.,\n",
       "          1250131., 1250131., 1250131., 1250131., 1250131., 1250131.,\n",
       "          1250131., 1250131.],\n",
       "         [1254322., 1254322., 1254322., 1254322., 1254322., 1254322.,\n",
       "          1254322., 1254322., 1254322., 1254322., 1254322., 1254322.,\n",
       "          1254322., 1254322., 1254322., 1254322., 1254322., 1254322.,\n",
       "          1254322., 1254322.],\n",
       "         [1258513., 1258513., 1258513., 1258513., 1258513., 1258513.,\n",
       "          1258513., 1258513., 1258513., 1258513., 1258513., 1258513.,\n",
       "          1258513., 1258513., 1258513., 1258513., 1258513., 1258513.,\n",
       "          1258513., 1258513.],\n",
       "         [1262704., 1262704., 1262704., 1262704., 1262704., 1262704.,\n",
       "          1262704., 1262704., 1262704., 1262704., 1262704., 1262704.,\n",
       "          1262704., 1262704., 1262704., 1262704., 1262704., 1262704.,\n",
       "          1262704., 1262704.],\n",
       "         [1266895., 1266895., 1266895., 1266895., 1266895., 1266895.,\n",
       "          1266895., 1266895., 1266895., 1266895., 1266895., 1266895.,\n",
       "          1266895., 1266895., 1266895., 1266895., 1266895., 1266895.,\n",
       "          1266895., 1266895.],\n",
       "         [1271086., 1271086., 1271086., 1271086., 1271086., 1271086.,\n",
       "          1271086., 1271086., 1271086., 1271086., 1271086., 1271086.,\n",
       "          1271086., 1271086., 1271086., 1271086., 1271086., 1271086.,\n",
       "          1271086., 1271086.],\n",
       "         [1275277., 1275277., 1275277., 1275277., 1275277., 1275277.,\n",
       "          1275277., 1275277., 1275277., 1275277., 1275277., 1275277.,\n",
       "          1275277., 1275277., 1275277., 1275277., 1275277., 1275277.,\n",
       "          1275277., 1275277.]]),\n",
       "  'Z3': array([[3.94840224e+09, 3.94840224e+09, 3.94840224e+09, 3.94840224e+09,\n",
       "          3.94840224e+09, 3.94840224e+09, 3.94840224e+09, 3.94840224e+09,\n",
       "          3.94840224e+09, 3.94840224e+09, 3.94840224e+09, 3.94840224e+09,\n",
       "          3.94840224e+09, 3.94840224e+09, 3.94840224e+09, 3.94840224e+09,\n",
       "          3.94840224e+09, 3.94840224e+09, 3.94840224e+09, 3.94840224e+09]])})"
      ]
     },
     "execution_count": 12,
     "metadata": {},
     "output_type": "execute_result"
    }
   ],
   "source": [
    "shapes = [(11, 20), (21, 8), (9, 1)]\n",
    "test_weights = transform_to_weights(np.array(list(range(0, 0 + 397))).astype('double'), shapes)\n",
    "full_forward_propagation(np.array([0] * 10), test_weights, NN_ARCHITECTURE)\n"
   ]
  },
  {
   "cell_type": "code",
   "execution_count": 13,
   "metadata": {},
   "outputs": [],
   "source": [
    "from sklearn.neural_network import MLPClassifier"
   ]
  },
  {
   "cell_type": "code",
   "execution_count": 14,
   "metadata": {},
   "outputs": [],
   "source": [
    "import mlrose\n",
    "from mlrose import opt_probs, algorithms\n",
    "from mlrose import fitness as fitness\n",
    "import importlib\n",
    "importlib.reload(mlrose.opt_probs)\n",
    "importlib.reload(mlrose.algorithms)\n",
    "\n",
    "def fit_np(weights, NN_ARCHITECTURE, X, y):\n",
    "    y_, _ = full_forward_propagation(X.transpose(),  transform_to_weights(weights, shapes), NN_ARCHITECTURE)\n",
    "    y_ = np.where(y_ > 0.5, 1, 0).flatten()\n",
    "#     print(y_)\n",
    "    return metrics.accuracy_score(y, y_)\n",
    "\n",
    "import time\n",
    "kwargs = {'NN_ARCHITECTURE': NN_ARCHITECTURE, 'X': X_train.values, 'y': y_train.values}\n",
    "NNfitness = fitness.CustomFitness(fit_np, **kwargs)\n",
    "state = np.array(range(397))\n",
    "\n",
    "kwargs_test = {'NN_ARCHITECTURE': NN_ARCHITECTURE, 'X': X_val.values, 'y': y_val.values}\n",
    "\n",
    "testFitness = fitness.CustomFitness(fit_np, **kwargs_test)\n",
    "\n",
    "problem = opt_probs.ContinuousOpt(397, NNfitness, min_val = -3, max_val = 3, step=.3)\n",
    "#scores, valid_scores, best_state, best_fitness = algorithms.random_hill_climb(problem, max_attempts=40, restarts=10, test=fit_np, **kwargs_test)\n"
   ]
  },
  {
   "cell_type": "code",
   "execution_count": null,
   "metadata": {},
   "outputs": [],
   "source": []
  },
  {
   "cell_type": "markdown",
   "metadata": {},
   "source": [
    "11:42 - 12:04 stepsize =.2\n",
    "12:04"
   ]
  },
  {
   "cell_type": "code",
   "execution_count": 161,
   "metadata": {
    "scrolled": true
   },
   "outputs": [
    {
     "name": "stdout",
     "output_type": "stream",
     "text": [
      "2644\n",
      "0.7228575184016824\n"
     ]
    }
   ],
   "source": [
    "print(len(scores))\n",
    "print(np.max(scores))"
   ]
  },
  {
   "cell_type": "code",
   "execution_count": 162,
   "metadata": {},
   "outputs": [
    {
     "data": {
      "image/png": "[encoded data removed]",
      "text/plain": [
       "<Figure size 432x288 with 1 Axes>"
      ]
     },
     "metadata": {
      "needs_background": "light"
     },
     "output_type": "display_data"
    }
   ],
   "source": [
    "plt.plot(range(len(scores)), scores)\n",
    "plt.plot(range(len(valid_scores)), valid_scores)\n",
    "mlTest.saveNpArray(scores, \"RHC-NN\", descriptors=\"score-0.3s-40-10r\")\n",
    "mlTest.saveNpArray(valid_scores, \"RHC-NN\", descriptors=\"valid_score-0.3s--40-10r\")"
   ]
  },
  {
   "cell_type": "code",
   "execution_count": 40,
   "metadata": {
    "scrolled": true
   },
   "outputs": [
    {
     "data": {
      "image/png": "[encoded data removed]",
      "text/plain": [
       "<Figure size 432x288 with 1 Axes>"
      ]
     },
     "metadata": {
      "needs_background": "light"
     },
     "output_type": "display_data"
    }
   ],
   "source": [
    "plt.plot(range(len(scores)), scores)\n",
    "mlTest.saveNpArray(scores, \"RHC-NN\", descriptors=\"100a-10r\")"
   ]
  },
  {
   "cell_type": "markdown",
   "metadata": {},
   "source": [
    "Simulated Annealing"
   ]
  },
  {
   "cell_type": "code",
   "execution_count": 182,
   "metadata": {},
   "outputs": [
    {
     "name": "stdout",
     "output_type": "stream",
     "text": [
      "00:01:57ns: 4000\n"
     ]
    }
   ],
   "source": [
    "from mlrose import opt_probs, algorithms\n",
    "from mlrose import fitness as fitness\n",
    "import importlib\n",
    "importlib.reload(mlrose.opt_probs)\n",
    "importlib.reload(mlrose.algorithms)\n",
    "scores, valid_scores, best_state, best_fitness = algorithms.simulated_annealing(problem, max_attempts=40, max_iters=4000,  test=fit_np, **kwargs_test)"
   ]
  },
  {
   "cell_type": "code",
   "execution_count": 183,
   "metadata": {},
   "outputs": [
    {
     "name": "stdout",
     "output_type": "stream",
     "text": [
      "0.7405362776025236\n"
     ]
    }
   ],
   "source": [
    "print(max(scores))"
   ]
  },
  {
   "cell_type": "code",
   "execution_count": 185,
   "metadata": {},
   "outputs": [
    {
     "data": {
      "image/png": "[encoded data removed]",
      "text/plain": [
       "<Figure size 432x288 with 1 Axes>"
      ]
     },
     "metadata": {
      "needs_background": "light"
     },
     "output_type": "display_data"
    }
   ],
   "source": [
    "plt.plot(range(len(scores)), scores)\n",
    "plt.plot(range(len(valid_scores)), valid_scores)\n",
    "mlTest.saveNpArray(scores, \"SA-NN\", descriptors=\"train-geo-4000i-40a\")\n",
    "mlTest.saveNpArray(valid_scores, \"SA-NN\", descriptors=\"valid-geo-4000i-40a\")"
   ]
  },
  {
   "cell_type": "code",
   "execution_count": null,
   "metadata": {},
   "outputs": [
    {
     "name": "stdout",
     "output_type": "stream",
     "text": [
      "Iterations: 523"
     ]
    }
   ],
   "source": [
    "from mlrose import opt_probs, algorithms\n",
    "from mlrose import fitness as fitness\n",
    "import importlib\n",
    "importlib.reload(mlrose.opt_probs)\n",
    "importlib.reload(mlrose.algorithms)\n",
    "from mlrose import decay\n",
    "scores, valid_scores, best_state, best_fitness = algorithms.simulated_annealing(problem, schedule=decay.ArithDecay(), max_attempts=40, max_iters=4000, test=fit_np, **kwargs_test)"
   ]
  },
  {
   "cell_type": "code",
   "execution_count": null,
   "metadata": {},
   "outputs": [],
   "source": [
    "print(max(scores))"
   ]
  },
  {
   "cell_type": "code",
   "execution_count": null,
   "metadata": {},
   "outputs": [],
   "source": [
    "plt.plot(range(len(scores)), scores)\n",
    "plt.plot(range(len(valid_scores)), valid_scores)\n",
    "mlTest.saveNpArray(scores, \"SA-NN\", descriptors=\"train-geo-4000i-40a\")\n",
    "mlTest.saveNpArray(valid_scores, \"SA-NN\", descriptors=\"valid-geo-4000i-40a\")"
   ]
  },
  {
   "cell_type": "code",
   "execution_count": 37,
   "metadata": {},
   "outputs": [
    {
     "name": "stdout",
     "output_type": "stream",
     "text": [
      "0.7105678233438486\n",
      "0.71181650893796\n",
      "0.71181650893796\n",
      "0.7128680336487907\n",
      "0.7128680336487907\n",
      "0.7128680336487907\n",
      "0.7128680336487907\n",
      "0.7235147213459516\n",
      "0.7235147213459516\n",
      "0.7235147213459516\n",
      "0.7235147213459516\n",
      "0.7235147213459516\n",
      "0.7235147213459516\n",
      "0.7235147213459516\n",
      "0.7235147213459516\n",
      "0.7235147213459516\n",
      "0.7235147213459516\n",
      "0.7235147213459516\n",
      "00:04:19\n"
     ]
    }
   ],
   "source": [
    "import mlrose\n",
    "from mlrose import opt_probs, algorithms\n",
    "from mlrose import fitness as fitness\n",
    "import importlib\n",
    "importlib.reload(mlrose.opt_probs)\n",
    "importlib.reload(mlrose.algorithms)\n",
    "from mlrose import decay\n",
    "scores, valid_scores, best_state, best_fitness = algorithms.genetic_alg(problem, mutation_prob=0.1, pop_size=800, max_attempts=10, max_iters=100, test=fit_np, **kwargs_test)"
   ]
  },
  {
   "cell_type": "code",
   "execution_count": 41,
   "metadata": {},
   "outputs": [
    {
     "name": "stdout",
     "output_type": "stream",
     "text": [
      "0.7235147213459516\n"
     ]
    },
    {
     "data": {
      "image/png": "[encoded data removed]",
      "text/plain": [
       "<Figure size 432x288 with 1 Axes>"
      ]
     },
     "metadata": {
      "needs_background": "light"
     },
     "output_type": "display_data"
    }
   ],
   "source": [
    "print(max(scores))\n",
    "plt.plot(range(len(scores)), scores)\n",
    "plt.plot(range(len(valid_scores)), valid_scores)\n",
    "mlTest.saveNpArray(scores, \"GA-NN\", descriptors=\"test-800-10a-100i\")\n",
    "mlTest.saveNpArray(valid_scores, \"GA-NN\", descriptors=\"valid-800-10a-100i\")"
   ]
  },
  {
   "cell_type": "code",
   "execution_count": 32,
   "metadata": {
    "scrolled": true
   },
   "outputs": [
    {
     "name": "stdout",
     "output_type": "stream",
     "text": [
      "0.7148396424815984\n",
      "0.7148396424815984\n",
      "0.7148396424815984\n",
      "0.7201629863301787\n",
      "0.7201629863301787\n",
      "0.7201629863301787\n",
      "0.7201629863301787\n",
      "0.7201629863301787\n",
      "0.7201629863301787\n",
      "0.7201629863301787\n",
      "0.7201629863301787\n",
      "0.724894847528917\n",
      "0.724894847528917\n",
      "0.724894847528917\n",
      "0.724894847528917\n",
      "0.724894847528917\n",
      "0.724894847528917\n",
      "0.724894847528917\n",
      "0.724894847528917\n",
      "0.724894847528917\n",
      "0.724894847528917\n",
      "0.724894847528917\n",
      "00:05:39\n"
     ]
    }
   ],
   "source": [
    "import mlrose\n",
    "from mlrose import opt_probs, algorithms\n",
    "from mlrose import fitness as fitness\n",
    "import importlib\n",
    "importlib.reload(mlrose.opt_probs)\n",
    "importlib.reload(mlrose.algorithms)\n",
    "from mlrose import decay\n",
    "scores, valid_scores, best_state, best_fitness = algorithms.genetic_alg(problem, mutation_prob=0.5, pop_size=1000, max_attempts=10, max_iters=100, test=fit_np, **kwargs_test)"
   ]
  },
  {
   "cell_type": "code",
   "execution_count": 39,
   "metadata": {},
   "outputs": [
    {
     "name": "stdout",
     "output_type": "stream",
     "text": [
      "0.7235147213459516\n"
     ]
    },
    {
     "data": {
      "image/png": "[encoded data removed]",
      "text/plain": [
       "<Figure size 432x288 with 1 Axes>"
      ]
     },
     "metadata": {
      "needs_background": "light"
     },
     "output_type": "display_data"
    }
   ],
   "source": [
    "plt.plot(range(len(scores)), scores)\n",
    "plt.plot(range(len(valid_scores)), valid_scores)\n",
    "mlTest.saveNpArray(scores, \"GA-NN\", descriptors=\"0p5m-1000p-10a-100i\")\n",
    "mlTest.saveNpArray(scores, \"GA-NN\", descriptors=\"0p5m-1000p-10a-100i\")\n",
    "print(max(scores))"
   ]
  },
  {
   "cell_type": "code",
   "execution_count": null,
   "metadata": {
    "collapsed": true
   },
   "outputs": [],
   "source": []
  }
 ],
 "metadata": {
  "kernelspec": {
   "display_name": "Python 3",
   "language": "python",
   "name": "python3"
  },
  "language_info": {
   "codemirror_mode": {
    "name": "ipython",
    "version": 3
   },
   "file_extension": ".py",
   "mimetype": "text/x-python",
   "name": "python",
   "nbconvert_exporter": "python",
   "pygments_lexer": "ipython3",
   "version": "3.6.7"
  }
 },
 "nbformat": 4,
 "nbformat_minor": 2
}

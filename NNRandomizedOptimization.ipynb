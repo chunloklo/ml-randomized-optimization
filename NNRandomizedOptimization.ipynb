{
 "cells": [
  {
   "cell_type": "code",
   "execution_count": 1,
   "metadata": {},
   "outputs": [
    {
     "name": "stderr",
     "output_type": "stream",
     "text": [
      "C:\\Users\\Chunlok Lo\\AppData\\Local\\conda\\conda\\envs\\magiclearning\\lib\\site-packages\\sklearn\\model_selection\\_split.py:2179: FutureWarning: From version 0.21, test_size will always complement train_size unless both are specified.\n",
      "  FutureWarning)\n"
     ]
    }
   ],
   "source": [
    "import pandas as pd\n",
    "import numpy as np\n",
    "from sklearn import metrics, model_selection, ensemble, neighbors, svm, tree, neural_network, base\n",
    "import matplotlib.pyplot as plt\n",
    "\n",
    "import importlib\n",
    "import datetime\n",
    "import mlTest\n",
    "import preprocessing\n",
    "importlib.reload(mlTest)\n",
    "importlib.reload(preprocessing)\n",
    "df = pd.read_csv(\"data/magic04.data\", header=None)\n",
    "df = preprocessing.convert_numeric(df, [10])\n",
    "X, y = preprocessing.XySplit(df, 10)\n",
    "X_train, X_val, X_test, X_train_val, y_train, y_val, y_test, y_train_val = mlTest.train_val_test_split(X, y, train_size=0.8, val_size=0.1)\n"
   ]
  },
  {
   "cell_type": "code",
   "execution_count": 2,
   "metadata": {},
   "outputs": [
    {
     "data": {
      "text/plain": [
       "0    12332\n",
       "1     6688\n",
       "Name: 10, dtype: int64"
      ]
     },
     "execution_count": 2,
     "metadata": {},
     "output_type": "execute_result"
    }
   ],
   "source": [
    "df[10].value_counts()"
   ]
  },
  {
   "cell_type": "code",
   "execution_count": 3,
   "metadata": {},
   "outputs": [],
   "source": [
    "import mlrose"
   ]
  },
  {
   "cell_type": "code",
   "execution_count": 4,
   "metadata": {},
   "outputs": [
    {
     "name": "stderr",
     "output_type": "stream",
     "text": [
      "Using TensorFlow backend.\n"
     ]
    }
   ],
   "source": [
    "import keras\n",
    "from keras.models import Sequential\n",
    "from keras.layers import Dense, Dropout, Flatten\n",
    "from keras.layers import Conv2D, MaxPooling2D\n",
    "from keras.layers import LeakyReLU, Activation\n",
    "import numpy as np\n",
    "mc = keras.callbacks.ModelCheckpoint('MAGIC-weights{epoch:08d}.h5', \n",
    "                                     save_weights_only=True, period=5)\n",
    "model = Sequential()\n",
    "model.add(Dense(20,kernel_initializer='lecun_uniform',input_shape=(10,), activation='relu'))\n",
    "# model.add(Activation('relu'))\n",
    "model.add(Dense(8, kernel_initializer='lecun_uniform',  activation='relu'))\n",
    "# model.add(Activation('relu'))\n",
    "model.add(Dense(1, kernel_initializer='lecun_uniform', activation='sigmoid'))\n",
    "# model.add(Activation('sigmoid'))\n",
    "# model.compile()\n",
    "#hist2 = model.fit(X_train.values, y_train.values, epochs=30, validation_data=(X_val.values, y_val.values), callbacks=[mc])"
   ]
  },
  {
   "cell_type": "code",
   "execution_count": 7,
   "metadata": {},
   "outputs": [
    {
     "name": "stdout",
     "output_type": "stream",
     "text": [
      "-1.3473605 1.2974616\n"
     ]
    }
   ],
   "source": [
    "model.load_weights(\"MAGIC-weights00000030.h5\")\n",
    "mini = np.inf\n",
    "maxi = -1 * np.inf\n",
    "for i in range(len(model.layers)):\n",
    "    if mini > model.layers[0].get_weights()[0].min():\n",
    "        mini = model.layers[0].get_weights()[0].min()\n",
    "    if mini > model.layers[0].get_weights()[1].min():\n",
    "        mini = model.layers[0].get_weights()[1].min()\n",
    "    if maxi < model.layers[0].get_weights()[0].max():\n",
    "        maxi = model.layers[0].get_weights()[0].max()\n",
    "    if maxi < model.layers[0].get_weights()[1].max():\n",
    "        maxi = model.layers[0].get_weights()[1].max()\n",
    "print(mini, maxi)"
   ]
  },
  {
   "cell_type": "code",
   "execution_count": 5,
   "metadata": {},
   "outputs": [
    {
     "name": "stdout",
     "output_type": "stream",
     "text": [
      "(11, 20)\n",
      "(21, 8)\n",
      "(9, 1)\n",
      "397\n",
      "[(11, 20), (21, 8), (9, 1)]\n"
     ]
    }
   ],
   "source": [
    "num_weights = 0\n",
    "shapes = []\n",
    "for i in range(len(model.layers)):\n",
    "    rows, cols = model.layers[i].get_weights()[0].shape\n",
    "    \n",
    "    rows += 1\n",
    "    shape_bias = (rows, cols)\n",
    "    shapes.append(shape_bias)\n",
    "    num_weights += rows * cols\n",
    "    print(shape_bias)\n",
    "print(num_weights)\n",
    "print(shapes)"
   ]
  },
  {
   "cell_type": "code",
   "execution_count": 9,
   "metadata": {},
   "outputs": [],
   "source": [
    "def transform_to_weights(a, shapes):\n",
    "    weights = []\n",
    "    start = 0\n",
    "    for s in shapes:\n",
    "        weight = a[start : start + (s[0] - 1) * s[1]].reshape((s[0]-1 , s[1]))\n",
    "        start += (s[0] - 1) * s[1]\n",
    "        bias = a[start : start + s[1]].reshape(s[1])\n",
    "        start += s[1]\n",
    "        weights.append((weight, bias))\n",
    "    return weights\n",
    "\n",
    "def set_weights(model, weights):\n",
    "    for i in range(len(model.layers)):\n",
    "#         print(model.layers[i].get_weights()[0].shape)\n",
    "#         print(weights[i].shape)\n",
    "        model.layers[i].set_weights(weights[i])"
   ]
  },
  {
   "cell_type": "code",
   "execution_count": 10,
   "metadata": {},
   "outputs": [
    {
     "ename": "NameError",
     "evalue": "name 'testShape' is not defined",
     "output_type": "error",
     "traceback": [
      "\u001b[1;31m---------------------------------------------------------------------------\u001b[0m",
      "\u001b[1;31mNameError\u001b[0m                                 Traceback (most recent call last)",
      "\u001b[1;32m<ipython-input-10-d88ac85613ee>\u001b[0m in \u001b[0;36m<module>\u001b[1;34m\u001b[0m\n\u001b[1;32m----> 1\u001b[1;33m \u001b[0mprint\u001b[0m\u001b[1;33m(\u001b[0m\u001b[0mtransform_to_weights\u001b[0m\u001b[1;33m(\u001b[0m\u001b[0mtestShape\u001b[0m\u001b[1;33m,\u001b[0m \u001b[0mshapes\u001b[0m\u001b[1;33m)\u001b[0m\u001b[1;33m[\u001b[0m\u001b[1;36m0\u001b[0m\u001b[1;33m]\u001b[0m\u001b[1;33m[\u001b[0m\u001b[1;36m1\u001b[0m\u001b[1;33m]\u001b[0m\u001b[1;33m)\u001b[0m\u001b[1;33m\u001b[0m\u001b[1;33m\u001b[0m\u001b[0m\n\u001b[0m",
      "\u001b[1;31mNameError\u001b[0m: name 'testShape' is not defined"
     ]
    }
   ],
   "source": [
    "print(transform_to_weights(testShape, shapes)[0][1])"
   ]
  },
  {
   "cell_type": "code",
   "execution_count": 11,
   "metadata": {},
   "outputs": [
    {
     "name": "stdout",
     "output_type": "stream",
     "text": [
      "(20,)\n",
      "(8,)\n",
      "(1,)\n"
     ]
    }
   ],
   "source": [
    "for i in range(len(model.layers)):\n",
    "        shape = model.layers[i].get_weights()[1].shape\n",
    "        print(shape)"
   ]
  },
  {
   "cell_type": "code",
   "execution_count": 12,
   "metadata": {},
   "outputs": [
    {
     "ename": "NameError",
     "evalue": "name 'testShape' is not defined",
     "output_type": "error",
     "traceback": [
      "\u001b[1;31m---------------------------------------------------------------------------\u001b[0m",
      "\u001b[1;31mNameError\u001b[0m                                 Traceback (most recent call last)",
      "\u001b[1;32m<ipython-input-12-6701ede243d6>\u001b[0m in \u001b[0;36m<module>\u001b[1;34m\u001b[0m\n\u001b[1;32m----> 1\u001b[1;33m \u001b[0mset_weights\u001b[0m\u001b[1;33m(\u001b[0m\u001b[0mmodel\u001b[0m\u001b[1;33m,\u001b[0m \u001b[0mtransform_to_weights\u001b[0m\u001b[1;33m(\u001b[0m\u001b[0mtestShape\u001b[0m\u001b[1;33m,\u001b[0m \u001b[0mshapes\u001b[0m\u001b[1;33m)\u001b[0m\u001b[1;33m)\u001b[0m\u001b[1;33m\u001b[0m\u001b[1;33m\u001b[0m\u001b[0m\n\u001b[0m\u001b[0;32m      2\u001b[0m \u001b[0mmodel\u001b[0m\u001b[1;33m.\u001b[0m\u001b[0mlayers\u001b[0m\u001b[1;33m[\u001b[0m\u001b[1;36m0\u001b[0m\u001b[1;33m]\u001b[0m\u001b[1;33m.\u001b[0m\u001b[0mget_weights\u001b[0m\u001b[1;33m(\u001b[0m\u001b[1;33m)\u001b[0m\u001b[1;33m\u001b[0m\u001b[1;33m\u001b[0m\u001b[0m\n",
      "\u001b[1;31mNameError\u001b[0m: name 'testShape' is not defined"
     ]
    }
   ],
   "source": [
    "set_weights(model, transform_to_weights(testShape, shapes))\n",
    "model.layers[0].get_weights()"
   ]
  },
  {
   "cell_type": "code",
   "execution_count": 13,
   "metadata": {},
   "outputs": [
    {
     "ename": "NameError",
     "evalue": "name 'testShape' is not defined",
     "output_type": "error",
     "traceback": [
      "\u001b[1;31m---------------------------------------------------------------------------\u001b[0m",
      "\u001b[1;31mNameError\u001b[0m                                 Traceback (most recent call last)",
      "\u001b[1;32m<ipython-input-13-41bf0fd5962b>\u001b[0m in \u001b[0;36m<module>\u001b[1;34m\u001b[0m\n\u001b[1;32m----> 1\u001b[1;33m \u001b[0mprint\u001b[0m\u001b[1;33m(\u001b[0m\u001b[0mtransform_to_weights\u001b[0m\u001b[1;33m(\u001b[0m\u001b[0mtestShape\u001b[0m\u001b[1;33m,\u001b[0m \u001b[0mshapes\u001b[0m\u001b[1;33m)\u001b[0m\u001b[1;33m)\u001b[0m\u001b[1;33m\u001b[0m\u001b[1;33m\u001b[0m\u001b[0m\n\u001b[0m",
      "\u001b[1;31mNameError\u001b[0m: name 'testShape' is not defined"
     ]
    }
   ],
   "source": [
    "print(transform_to_weights(testShape, shapes))"
   ]
  },
  {
   "cell_type": "code",
   "execution_count": null,
   "metadata": {},
   "outputs": [],
   "source": [
    "from mlrose import opt_probs, algorithms\n",
    "from mlrose import fitness as fitness\n",
    "import importlib\n",
    "importlib.reload(mlrose.opt_probs)\n",
    "importlib.reload(mlrose.algorithms)"
   ]
  },
  {
   "cell_type": "code",
   "execution_count": 14,
   "metadata": {},
   "outputs": [],
   "source": [
    "NN_ARCHITECTURE = [\n",
    "    {\"input_dim\": 10, \"output_dim\": 20, \"activation\": \"relu\"},\n",
    "    {\"input_dim\": 20, \"output_dim\": 8, \"activation\": \"relu\"},\n",
    "    {\"input_dim\": 8, \"output_dim\": 1, \"activation\": \"sigmoid\"},\n",
    "]\n",
    "\n",
    "def init_layers(nn_architecture, seed = 99):\n",
    "    # random seed initiation\n",
    "    np.random.seed(seed)\n",
    "    # number of layers in our neural network\n",
    "    number_of_layers = len(nn_architecture)\n",
    "    # parameters storage initiation\n",
    "    params_values = {}\n",
    "    \n",
    "    # iteration over network layers\n",
    "    for idx, layer in enumerate(nn_architecture):\n",
    "        # we number network layers from 1\n",
    "        layer_idx = idx + 1\n",
    "        \n",
    "        # extracting the number of units in layers\n",
    "        layer_input_size = layer[\"input_dim\"]\n",
    "        layer_output_size = layer[\"output_dim\"]\n",
    "        \n",
    "        # initiating the values of the W matrix\n",
    "        # and vector b for subsequent layers\n",
    "        params_values['W' + str(layer_idx)] = np.random.randn(\n",
    "            layer_output_size, layer_input_size) * 0.1\n",
    "        params_values['b' + str(layer_idx)] = np.random.randn(\n",
    "            layer_output_size, 1) * 0.1\n",
    "        \n",
    "    return params_values\n",
    "\n",
    "\n",
    "def sigmoid(Z):\n",
    "    return 1/(1+np.exp(-Z))\n",
    "\n",
    "def relu(Z):\n",
    "    return np.maximum(0,Z)\n",
    "\n",
    "def sigmoid_backward(dA, Z):\n",
    "    sig = sigmoid(Z)\n",
    "    return dA * sig * (1 - sig)\n",
    "\n",
    "def relu_backward(dA, Z):\n",
    "    dZ = np.array(dA, copy = True)\n",
    "    dZ[Z <= 0] = 0;\n",
    "    return dZ;\n",
    "\n",
    "\n",
    "def single_layer_forward_propagation(A_prev, W_curr, b_curr, activation=\"relu\"):\n",
    "    # calculation of the input value for the activation function\n",
    "#     print(W_curr.shape, A_prev.shape)\n",
    "    Z_curr = np.matmul(W_curr, A_prev) + b_curr.reshape(b_curr.shape[0], 1)\n",
    "    \n",
    "    # selection of activation function\n",
    "    if activation is \"relu\":\n",
    "        activation_func = relu\n",
    "    elif activation is \"sigmoid\":\n",
    "        activation_func = sigmoid\n",
    "    else:\n",
    "        raise Exception('Non-supported activation function')\n",
    "        \n",
    "    # return of calculated activation A and the intermediate Z matrix\n",
    "    return activation_func(Z_curr), Z_curr\n",
    "\n",
    "def full_forward_propagation(X, params_values, nn_architecture):\n",
    "    # creating a temporary memory to store the information needed for a backward step\n",
    "    memory = {}\n",
    "    # X vector is the activation for layer 0 \n",
    "    A_curr = X\n",
    "    \n",
    "    # iteration over network layers\n",
    "    for idx, layer in enumerate(nn_architecture):\n",
    "        # we number network layers from 1\n",
    "        layer_idx = idx + 1\n",
    "        # transfer the activation from the previous iteration\n",
    "        A_prev = A_curr\n",
    "        \n",
    "        # extraction of the activation function for the current layer\n",
    "        activ_function_curr = layer[\"activation\"]\n",
    "        # extraction of W for the current layer\n",
    "        W_curr = params_values[idx][0].transpose()\n",
    "        # extraction of b for the current layer\n",
    "        b_curr = params_values[idx][1]\n",
    "        # calculation of activation for the current layer\n",
    "        A_curr, Z_curr = single_layer_forward_propagation(A_prev, W_curr, b_curr, activ_function_curr)\n",
    "        \n",
    "        # saving calculated values in the memory\n",
    "        memory[\"A\" + str(idx)] = A_prev\n",
    "        memory[\"Z\" + str(layer_idx)] = Z_curr\n",
    "       \n",
    "    # return of prediction vector and a dictionary containing intermediate values\n",
    "    return A_curr, memory\n",
    "\n",
    "def transform_to_weights_np(a, shapes):\n",
    "    weights = []\n",
    "    start = 0\n",
    "    for s in shapes:\n",
    "        weight = a[start : start + (s[0] - 1) * s[1]].reshape((s[0]-1 , s[1]))\n",
    "        start += (s[0] - 1) * s[1]\n",
    "        bias = a[start : start + s[1]].reshape(s[1])\n",
    "        start += s[1]\n",
    "        weights.append((weight, bias))\n",
    "    return weights"
   ]
  },
  {
   "cell_type": "code",
   "execution_count": 15,
   "metadata": {},
   "outputs": [
    {
     "data": {
      "text/plain": [
       "(array([[1., 1., 1., 1., 1., 1., 1., 1., 1., 1., 1., 1., 1., 1., 1., 1.,\n",
       "         1., 1., 1., 1.]]),\n",
       " {'A0': array([0, 0, 0, 0, 0, 0, 0, 0, 0, 0]),\n",
       "  'Z1': array([[200., 200., 200., 200., 200., 200., 200., 200., 200., 200., 200.,\n",
       "          200., 200., 200., 200., 200., 200., 200., 200., 200.],\n",
       "         [201., 201., 201., 201., 201., 201., 201., 201., 201., 201., 201.,\n",
       "          201., 201., 201., 201., 201., 201., 201., 201., 201.],\n",
       "         [202., 202., 202., 202., 202., 202., 202., 202., 202., 202., 202.,\n",
       "          202., 202., 202., 202., 202., 202., 202., 202., 202.],\n",
       "         [203., 203., 203., 203., 203., 203., 203., 203., 203., 203., 203.,\n",
       "          203., 203., 203., 203., 203., 203., 203., 203., 203.],\n",
       "         [204., 204., 204., 204., 204., 204., 204., 204., 204., 204., 204.,\n",
       "          204., 204., 204., 204., 204., 204., 204., 204., 204.],\n",
       "         [205., 205., 205., 205., 205., 205., 205., 205., 205., 205., 205.,\n",
       "          205., 205., 205., 205., 205., 205., 205., 205., 205.],\n",
       "         [206., 206., 206., 206., 206., 206., 206., 206., 206., 206., 206.,\n",
       "          206., 206., 206., 206., 206., 206., 206., 206., 206.],\n",
       "         [207., 207., 207., 207., 207., 207., 207., 207., 207., 207., 207.,\n",
       "          207., 207., 207., 207., 207., 207., 207., 207., 207.],\n",
       "         [208., 208., 208., 208., 208., 208., 208., 208., 208., 208., 208.,\n",
       "          208., 208., 208., 208., 208., 208., 208., 208., 208.],\n",
       "         [209., 209., 209., 209., 209., 209., 209., 209., 209., 209., 209.,\n",
       "          209., 209., 209., 209., 209., 209., 209., 209., 209.],\n",
       "         [210., 210., 210., 210., 210., 210., 210., 210., 210., 210., 210.,\n",
       "          210., 210., 210., 210., 210., 210., 210., 210., 210.],\n",
       "         [211., 211., 211., 211., 211., 211., 211., 211., 211., 211., 211.,\n",
       "          211., 211., 211., 211., 211., 211., 211., 211., 211.],\n",
       "         [212., 212., 212., 212., 212., 212., 212., 212., 212., 212., 212.,\n",
       "          212., 212., 212., 212., 212., 212., 212., 212., 212.],\n",
       "         [213., 213., 213., 213., 213., 213., 213., 213., 213., 213., 213.,\n",
       "          213., 213., 213., 213., 213., 213., 213., 213., 213.],\n",
       "         [214., 214., 214., 214., 214., 214., 214., 214., 214., 214., 214.,\n",
       "          214., 214., 214., 214., 214., 214., 214., 214., 214.],\n",
       "         [215., 215., 215., 215., 215., 215., 215., 215., 215., 215., 215.,\n",
       "          215., 215., 215., 215., 215., 215., 215., 215., 215.],\n",
       "         [216., 216., 216., 216., 216., 216., 216., 216., 216., 216., 216.,\n",
       "          216., 216., 216., 216., 216., 216., 216., 216., 216.],\n",
       "         [217., 217., 217., 217., 217., 217., 217., 217., 217., 217., 217.,\n",
       "          217., 217., 217., 217., 217., 217., 217., 217., 217.],\n",
       "         [218., 218., 218., 218., 218., 218., 218., 218., 218., 218., 218.,\n",
       "          218., 218., 218., 218., 218., 218., 218., 218., 218.],\n",
       "         [219., 219., 219., 219., 219., 219., 219., 219., 219., 219., 219.,\n",
       "          219., 219., 219., 219., 219., 219., 219., 219., 219.]]),\n",
       "  'A1': array([[200., 200., 200., 200., 200., 200., 200., 200., 200., 200., 200.,\n",
       "          200., 200., 200., 200., 200., 200., 200., 200., 200.],\n",
       "         [201., 201., 201., 201., 201., 201., 201., 201., 201., 201., 201.,\n",
       "          201., 201., 201., 201., 201., 201., 201., 201., 201.],\n",
       "         [202., 202., 202., 202., 202., 202., 202., 202., 202., 202., 202.,\n",
       "          202., 202., 202., 202., 202., 202., 202., 202., 202.],\n",
       "         [203., 203., 203., 203., 203., 203., 203., 203., 203., 203., 203.,\n",
       "          203., 203., 203., 203., 203., 203., 203., 203., 203.],\n",
       "         [204., 204., 204., 204., 204., 204., 204., 204., 204., 204., 204.,\n",
       "          204., 204., 204., 204., 204., 204., 204., 204., 204.],\n",
       "         [205., 205., 205., 205., 205., 205., 205., 205., 205., 205., 205.,\n",
       "          205., 205., 205., 205., 205., 205., 205., 205., 205.],\n",
       "         [206., 206., 206., 206., 206., 206., 206., 206., 206., 206., 206.,\n",
       "          206., 206., 206., 206., 206., 206., 206., 206., 206.],\n",
       "         [207., 207., 207., 207., 207., 207., 207., 207., 207., 207., 207.,\n",
       "          207., 207., 207., 207., 207., 207., 207., 207., 207.],\n",
       "         [208., 208., 208., 208., 208., 208., 208., 208., 208., 208., 208.,\n",
       "          208., 208., 208., 208., 208., 208., 208., 208., 208.],\n",
       "         [209., 209., 209., 209., 209., 209., 209., 209., 209., 209., 209.,\n",
       "          209., 209., 209., 209., 209., 209., 209., 209., 209.],\n",
       "         [210., 210., 210., 210., 210., 210., 210., 210., 210., 210., 210.,\n",
       "          210., 210., 210., 210., 210., 210., 210., 210., 210.],\n",
       "         [211., 211., 211., 211., 211., 211., 211., 211., 211., 211., 211.,\n",
       "          211., 211., 211., 211., 211., 211., 211., 211., 211.],\n",
       "         [212., 212., 212., 212., 212., 212., 212., 212., 212., 212., 212.,\n",
       "          212., 212., 212., 212., 212., 212., 212., 212., 212.],\n",
       "         [213., 213., 213., 213., 213., 213., 213., 213., 213., 213., 213.,\n",
       "          213., 213., 213., 213., 213., 213., 213., 213., 213.],\n",
       "         [214., 214., 214., 214., 214., 214., 214., 214., 214., 214., 214.,\n",
       "          214., 214., 214., 214., 214., 214., 214., 214., 214.],\n",
       "         [215., 215., 215., 215., 215., 215., 215., 215., 215., 215., 215.,\n",
       "          215., 215., 215., 215., 215., 215., 215., 215., 215.],\n",
       "         [216., 216., 216., 216., 216., 216., 216., 216., 216., 216., 216.,\n",
       "          216., 216., 216., 216., 216., 216., 216., 216., 216.],\n",
       "         [217., 217., 217., 217., 217., 217., 217., 217., 217., 217., 217.,\n",
       "          217., 217., 217., 217., 217., 217., 217., 217., 217.],\n",
       "         [218., 218., 218., 218., 218., 218., 218., 218., 218., 218., 218.,\n",
       "          218., 218., 218., 218., 218., 218., 218., 218., 218.],\n",
       "         [219., 219., 219., 219., 219., 219., 219., 219., 219., 219., 219.,\n",
       "          219., 219., 219., 219., 219., 219., 219., 219., 219.]]),\n",
       "  'Z2': array([[1245940., 1245940., 1245940., 1245940., 1245940., 1245940.,\n",
       "          1245940., 1245940., 1245940., 1245940., 1245940., 1245940.,\n",
       "          1245940., 1245940., 1245940., 1245940., 1245940., 1245940.,\n",
       "          1245940., 1245940.],\n",
       "         [1250131., 1250131., 1250131., 1250131., 1250131., 1250131.,\n",
       "          1250131., 1250131., 1250131., 1250131., 1250131., 1250131.,\n",
       "          1250131., 1250131., 1250131., 1250131., 1250131., 1250131.,\n",
       "          1250131., 1250131.],\n",
       "         [1254322., 1254322., 1254322., 1254322., 1254322., 1254322.,\n",
       "          1254322., 1254322., 1254322., 1254322., 1254322., 1254322.,\n",
       "          1254322., 1254322., 1254322., 1254322., 1254322., 1254322.,\n",
       "          1254322., 1254322.],\n",
       "         [1258513., 1258513., 1258513., 1258513., 1258513., 1258513.,\n",
       "          1258513., 1258513., 1258513., 1258513., 1258513., 1258513.,\n",
       "          1258513., 1258513., 1258513., 1258513., 1258513., 1258513.,\n",
       "          1258513., 1258513.],\n",
       "         [1262704., 1262704., 1262704., 1262704., 1262704., 1262704.,\n",
       "          1262704., 1262704., 1262704., 1262704., 1262704., 1262704.,\n",
       "          1262704., 1262704., 1262704., 1262704., 1262704., 1262704.,\n",
       "          1262704., 1262704.],\n",
       "         [1266895., 1266895., 1266895., 1266895., 1266895., 1266895.,\n",
       "          1266895., 1266895., 1266895., 1266895., 1266895., 1266895.,\n",
       "          1266895., 1266895., 1266895., 1266895., 1266895., 1266895.,\n",
       "          1266895., 1266895.],\n",
       "         [1271086., 1271086., 1271086., 1271086., 1271086., 1271086.,\n",
       "          1271086., 1271086., 1271086., 1271086., 1271086., 1271086.,\n",
       "          1271086., 1271086., 1271086., 1271086., 1271086., 1271086.,\n",
       "          1271086., 1271086.],\n",
       "         [1275277., 1275277., 1275277., 1275277., 1275277., 1275277.,\n",
       "          1275277., 1275277., 1275277., 1275277., 1275277., 1275277.,\n",
       "          1275277., 1275277., 1275277., 1275277., 1275277., 1275277.,\n",
       "          1275277., 1275277.]]),\n",
       "  'A2': array([[1245940., 1245940., 1245940., 1245940., 1245940., 1245940.,\n",
       "          1245940., 1245940., 1245940., 1245940., 1245940., 1245940.,\n",
       "          1245940., 1245940., 1245940., 1245940., 1245940., 1245940.,\n",
       "          1245940., 1245940.],\n",
       "         [1250131., 1250131., 1250131., 1250131., 1250131., 1250131.,\n",
       "          1250131., 1250131., 1250131., 1250131., 1250131., 1250131.,\n",
       "          1250131., 1250131., 1250131., 1250131., 1250131., 1250131.,\n",
       "          1250131., 1250131.],\n",
       "         [1254322., 1254322., 1254322., 1254322., 1254322., 1254322.,\n",
       "          1254322., 1254322., 1254322., 1254322., 1254322., 1254322.,\n",
       "          1254322., 1254322., 1254322., 1254322., 1254322., 1254322.,\n",
       "          1254322., 1254322.],\n",
       "         [1258513., 1258513., 1258513., 1258513., 1258513., 1258513.,\n",
       "          1258513., 1258513., 1258513., 1258513., 1258513., 1258513.,\n",
       "          1258513., 1258513., 1258513., 1258513., 1258513., 1258513.,\n",
       "          1258513., 1258513.],\n",
       "         [1262704., 1262704., 1262704., 1262704., 1262704., 1262704.,\n",
       "          1262704., 1262704., 1262704., 1262704., 1262704., 1262704.,\n",
       "          1262704., 1262704., 1262704., 1262704., 1262704., 1262704.,\n",
       "          1262704., 1262704.],\n",
       "         [1266895., 1266895., 1266895., 1266895., 1266895., 1266895.,\n",
       "          1266895., 1266895., 1266895., 1266895., 1266895., 1266895.,\n",
       "          1266895., 1266895., 1266895., 1266895., 1266895., 1266895.,\n",
       "          1266895., 1266895.],\n",
       "         [1271086., 1271086., 1271086., 1271086., 1271086., 1271086.,\n",
       "          1271086., 1271086., 1271086., 1271086., 1271086., 1271086.,\n",
       "          1271086., 1271086., 1271086., 1271086., 1271086., 1271086.,\n",
       "          1271086., 1271086.],\n",
       "         [1275277., 1275277., 1275277., 1275277., 1275277., 1275277.,\n",
       "          1275277., 1275277., 1275277., 1275277., 1275277., 1275277.,\n",
       "          1275277., 1275277., 1275277., 1275277., 1275277., 1275277.,\n",
       "          1275277., 1275277.]]),\n",
       "  'Z3': array([[3.94840224e+09, 3.94840224e+09, 3.94840224e+09, 3.94840224e+09,\n",
       "          3.94840224e+09, 3.94840224e+09, 3.94840224e+09, 3.94840224e+09,\n",
       "          3.94840224e+09, 3.94840224e+09, 3.94840224e+09, 3.94840224e+09,\n",
       "          3.94840224e+09, 3.94840224e+09, 3.94840224e+09, 3.94840224e+09,\n",
       "          3.94840224e+09, 3.94840224e+09, 3.94840224e+09, 3.94840224e+09]])})"
      ]
     },
     "execution_count": 15,
     "metadata": {},
     "output_type": "execute_result"
    }
   ],
   "source": [
    "test_weights = transform_to_weights(np.array(list(range(0, 0 + 397))).astype('double'), shapes)\n",
    "full_forward_propagation(np.array([0] * 10), test_weights, NN_ARCHITECTURE)\n"
   ]
  },
  {
   "cell_type": "code",
   "execution_count": 16,
   "metadata": {},
   "outputs": [],
   "source": [
    "from sklearn.neural_network import MLPClassifier"
   ]
  },
  {
   "cell_type": "code",
   "execution_count": 17,
   "metadata": {},
   "outputs": [
    {
     "name": "stdout",
     "output_type": "stream",
     "text": [
      "[array([[100., 101., 102., 103., 104., 105., 106., 107., 108., 109., 110.,\n",
      "        111., 112., 113., 114., 115., 116., 117., 118., 119.],\n",
      "       [120., 121., 122., 123., 124., 125., 126., 127., 128., 129., 130.,\n",
      "        131., 132., 133., 134., 135., 136., 137., 138., 139.],\n",
      "       [140., 141., 142., 143., 144., 145., 146., 147., 148., 149., 150.,\n",
      "        151., 152., 153., 154., 155., 156., 157., 158., 159.],\n",
      "       [160., 161., 162., 163., 164., 165., 166., 167., 168., 169., 170.,\n",
      "        171., 172., 173., 174., 175., 176., 177., 178., 179.],\n",
      "       [180., 181., 182., 183., 184., 185., 186., 187., 188., 189., 190.,\n",
      "        191., 192., 193., 194., 195., 196., 197., 198., 199.],\n",
      "       [200., 201., 202., 203., 204., 205., 206., 207., 208., 209., 210.,\n",
      "        211., 212., 213., 214., 215., 216., 217., 218., 219.],\n",
      "       [220., 221., 222., 223., 224., 225., 226., 227., 228., 229., 230.,\n",
      "        231., 232., 233., 234., 235., 236., 237., 238., 239.],\n",
      "       [240., 241., 242., 243., 244., 245., 246., 247., 248., 249., 250.,\n",
      "        251., 252., 253., 254., 255., 256., 257., 258., 259.],\n",
      "       [260., 261., 262., 263., 264., 265., 266., 267., 268., 269., 270.,\n",
      "        271., 272., 273., 274., 275., 276., 277., 278., 279.],\n",
      "       [280., 281., 282., 283., 284., 285., 286., 287., 288., 289., 290.,\n",
      "        291., 292., 293., 294., 295., 296., 297., 298., 299.]]), array([[320., 321., 322., 323., 324., 325., 326., 327.],\n",
      "       [328., 329., 330., 331., 332., 333., 334., 335.],\n",
      "       [336., 337., 338., 339., 340., 341., 342., 343.],\n",
      "       [344., 345., 346., 347., 348., 349., 350., 351.],\n",
      "       [352., 353., 354., 355., 356., 357., 358., 359.],\n",
      "       [360., 361., 362., 363., 364., 365., 366., 367.],\n",
      "       [368., 369., 370., 371., 372., 373., 374., 375.],\n",
      "       [376., 377., 378., 379., 380., 381., 382., 383.],\n",
      "       [384., 385., 386., 387., 388., 389., 390., 391.],\n",
      "       [392., 393., 394., 395., 396., 397., 398., 399.],\n",
      "       [400., 401., 402., 403., 404., 405., 406., 407.],\n",
      "       [408., 409., 410., 411., 412., 413., 414., 415.],\n",
      "       [416., 417., 418., 419., 420., 421., 422., 423.],\n",
      "       [424., 425., 426., 427., 428., 429., 430., 431.],\n",
      "       [432., 433., 434., 435., 436., 437., 438., 439.],\n",
      "       [440., 441., 442., 443., 444., 445., 446., 447.],\n",
      "       [448., 449., 450., 451., 452., 453., 454., 455.],\n",
      "       [456., 457., 458., 459., 460., 461., 462., 463.],\n",
      "       [464., 465., 466., 467., 468., 469., 470., 471.],\n",
      "       [472., 473., 474., 475., 476., 477., 478., 479.]]), array([[488.],\n",
      "       [489.],\n",
      "       [490.],\n",
      "       [491.],\n",
      "       [492.],\n",
      "       [493.],\n",
      "       [494.],\n",
      "       [495.]])]\n"
     ]
    },
    {
     "name": "stderr",
     "output_type": "stream",
     "text": [
      "C:\\Users\\Chunlok Lo\\AppData\\Local\\conda\\conda\\envs\\magiclearning\\lib\\site-packages\\sklearn\\neural_network\\multilayer_perceptron.py:562: ConvergenceWarning: Stochastic Optimizer: Maximum iterations (200) reached and the optimization hasn't converged yet.\n",
      "  % self.max_iter, ConvergenceWarning)\n"
     ]
    },
    {
     "ename": "ValueError",
     "evalue": "Found array with 0 feature(s) (shape=(1, 0)) while a minimum of 1 is required.",
     "output_type": "error",
     "traceback": [
      "\u001b[1;31m---------------------------------------------------------------------------\u001b[0m",
      "\u001b[1;31mValueError\u001b[0m                                Traceback (most recent call last)",
      "\u001b[1;32m<ipython-input-17-a4f1e0b2bef1>\u001b[0m in \u001b[0;36m<module>\u001b[1;34m\u001b[0m\n\u001b[0;32m     10\u001b[0m \u001b[0mset_weights_sk\u001b[0m\u001b[1;33m(\u001b[0m\u001b[0mclf\u001b[0m\u001b[1;33m,\u001b[0m \u001b[0mtest_weights\u001b[0m\u001b[1;33m)\u001b[0m\u001b[1;33m\u001b[0m\u001b[1;33m\u001b[0m\u001b[0m\n\u001b[0;32m     11\u001b[0m \u001b[0mprint\u001b[0m\u001b[1;33m(\u001b[0m\u001b[0mclf\u001b[0m\u001b[1;33m.\u001b[0m\u001b[0mcoefs_\u001b[0m\u001b[1;33m)\u001b[0m\u001b[1;33m\u001b[0m\u001b[1;33m\u001b[0m\u001b[0m\n\u001b[1;32m---> 12\u001b[1;33m \u001b[0mclf\u001b[0m\u001b[1;33m.\u001b[0m\u001b[0mfit\u001b[0m\u001b[1;33m(\u001b[0m\u001b[1;33m[\u001b[0m\u001b[1;33m[\u001b[0m\u001b[1;33m]\u001b[0m\u001b[1;33m]\u001b[0m\u001b[1;33m,\u001b[0m \u001b[1;33m[\u001b[0m\u001b[1;33m]\u001b[0m\u001b[1;33m)\u001b[0m\u001b[1;33m\u001b[0m\u001b[1;33m\u001b[0m\u001b[0m\n\u001b[0m\u001b[0;32m     13\u001b[0m \u001b[0mclf\u001b[0m\u001b[1;33m.\u001b[0m\u001b[0mpredict\u001b[0m\u001b[1;33m(\u001b[0m\u001b[1;33m[\u001b[0m\u001b[1;33m[\u001b[0m\u001b[1;36m10\u001b[0m\u001b[1;33m,\u001b[0m\u001b[1;36m10\u001b[0m\u001b[1;33m,\u001b[0m\u001b[1;36m10\u001b[0m\u001b[1;33m,\u001b[0m\u001b[1;36m10\u001b[0m\u001b[1;33m,\u001b[0m\u001b[1;36m10\u001b[0m\u001b[1;33m,\u001b[0m\u001b[1;36m10\u001b[0m\u001b[1;33m,\u001b[0m\u001b[1;36m10\u001b[0m\u001b[1;33m,\u001b[0m\u001b[1;36m10\u001b[0m\u001b[1;33m,\u001b[0m\u001b[1;36m10\u001b[0m\u001b[1;33m,\u001b[0m\u001b[1;36m10\u001b[0m\u001b[1;33m]\u001b[0m\u001b[1;33m]\u001b[0m\u001b[1;33m)\u001b[0m\u001b[1;33m\u001b[0m\u001b[1;33m\u001b[0m\u001b[0m\n",
      "\u001b[1;32m~\\AppData\\Local\\conda\\conda\\envs\\magiclearning\\lib\\site-packages\\sklearn\\neural_network\\multilayer_perceptron.py\u001b[0m in \u001b[0;36mfit\u001b[1;34m(self, X, y)\u001b[0m\n\u001b[0;32m    975\u001b[0m         \"\"\"\n\u001b[0;32m    976\u001b[0m         return self._fit(X, y, incremental=(self.warm_start and\n\u001b[1;32m--> 977\u001b[1;33m                                             hasattr(self, \"classes_\")))\n\u001b[0m\u001b[0;32m    978\u001b[0m \u001b[1;33m\u001b[0m\u001b[0m\n\u001b[0;32m    979\u001b[0m     \u001b[1;33m@\u001b[0m\u001b[0mproperty\u001b[0m\u001b[1;33m\u001b[0m\u001b[1;33m\u001b[0m\u001b[0m\n",
      "\u001b[1;32m~\\AppData\\Local\\conda\\conda\\envs\\magiclearning\\lib\\site-packages\\sklearn\\neural_network\\multilayer_perceptron.py\u001b[0m in \u001b[0;36m_fit\u001b[1;34m(self, X, y, incremental)\u001b[0m\n\u001b[0;32m    322\u001b[0m                              hidden_layer_sizes)\n\u001b[0;32m    323\u001b[0m \u001b[1;33m\u001b[0m\u001b[0m\n\u001b[1;32m--> 324\u001b[1;33m         \u001b[0mX\u001b[0m\u001b[1;33m,\u001b[0m \u001b[0my\u001b[0m \u001b[1;33m=\u001b[0m \u001b[0mself\u001b[0m\u001b[1;33m.\u001b[0m\u001b[0m_validate_input\u001b[0m\u001b[1;33m(\u001b[0m\u001b[0mX\u001b[0m\u001b[1;33m,\u001b[0m \u001b[0my\u001b[0m\u001b[1;33m,\u001b[0m \u001b[0mincremental\u001b[0m\u001b[1;33m)\u001b[0m\u001b[1;33m\u001b[0m\u001b[1;33m\u001b[0m\u001b[0m\n\u001b[0m\u001b[0;32m    325\u001b[0m         \u001b[0mn_samples\u001b[0m\u001b[1;33m,\u001b[0m \u001b[0mn_features\u001b[0m \u001b[1;33m=\u001b[0m \u001b[0mX\u001b[0m\u001b[1;33m.\u001b[0m\u001b[0mshape\u001b[0m\u001b[1;33m\u001b[0m\u001b[1;33m\u001b[0m\u001b[0m\n\u001b[0;32m    326\u001b[0m \u001b[1;33m\u001b[0m\u001b[0m\n",
      "\u001b[1;32m~\\AppData\\Local\\conda\\conda\\envs\\magiclearning\\lib\\site-packages\\sklearn\\neural_network\\multilayer_perceptron.py\u001b[0m in \u001b[0;36m_validate_input\u001b[1;34m(self, X, y, incremental)\u001b[0m\n\u001b[0;32m    912\u001b[0m     \u001b[1;32mdef\u001b[0m \u001b[0m_validate_input\u001b[0m\u001b[1;33m(\u001b[0m\u001b[0mself\u001b[0m\u001b[1;33m,\u001b[0m \u001b[0mX\u001b[0m\u001b[1;33m,\u001b[0m \u001b[0my\u001b[0m\u001b[1;33m,\u001b[0m \u001b[0mincremental\u001b[0m\u001b[1;33m)\u001b[0m\u001b[1;33m:\u001b[0m\u001b[1;33m\u001b[0m\u001b[1;33m\u001b[0m\u001b[0m\n\u001b[0;32m    913\u001b[0m         X, y = check_X_y(X, y, accept_sparse=['csr', 'csc', 'coo'],\n\u001b[1;32m--> 914\u001b[1;33m                          multi_output=True)\n\u001b[0m\u001b[0;32m    915\u001b[0m         \u001b[1;32mif\u001b[0m \u001b[0my\u001b[0m\u001b[1;33m.\u001b[0m\u001b[0mndim\u001b[0m \u001b[1;33m==\u001b[0m \u001b[1;36m2\u001b[0m \u001b[1;32mand\u001b[0m \u001b[0my\u001b[0m\u001b[1;33m.\u001b[0m\u001b[0mshape\u001b[0m\u001b[1;33m[\u001b[0m\u001b[1;36m1\u001b[0m\u001b[1;33m]\u001b[0m \u001b[1;33m==\u001b[0m \u001b[1;36m1\u001b[0m\u001b[1;33m:\u001b[0m\u001b[1;33m\u001b[0m\u001b[1;33m\u001b[0m\u001b[0m\n\u001b[0;32m    916\u001b[0m             \u001b[0my\u001b[0m \u001b[1;33m=\u001b[0m \u001b[0mcolumn_or_1d\u001b[0m\u001b[1;33m(\u001b[0m\u001b[0my\u001b[0m\u001b[1;33m,\u001b[0m \u001b[0mwarn\u001b[0m\u001b[1;33m=\u001b[0m\u001b[1;32mTrue\u001b[0m\u001b[1;33m)\u001b[0m\u001b[1;33m\u001b[0m\u001b[1;33m\u001b[0m\u001b[0m\n",
      "\u001b[1;32m~\\AppData\\Local\\conda\\conda\\envs\\magiclearning\\lib\\site-packages\\sklearn\\utils\\validation.py\u001b[0m in \u001b[0;36mcheck_X_y\u001b[1;34m(X, y, accept_sparse, accept_large_sparse, dtype, order, copy, force_all_finite, ensure_2d, allow_nd, multi_output, ensure_min_samples, ensure_min_features, y_numeric, warn_on_dtype, estimator)\u001b[0m\n\u001b[0;32m    754\u001b[0m                     \u001b[0mensure_min_features\u001b[0m\u001b[1;33m=\u001b[0m\u001b[0mensure_min_features\u001b[0m\u001b[1;33m,\u001b[0m\u001b[1;33m\u001b[0m\u001b[1;33m\u001b[0m\u001b[0m\n\u001b[0;32m    755\u001b[0m                     \u001b[0mwarn_on_dtype\u001b[0m\u001b[1;33m=\u001b[0m\u001b[0mwarn_on_dtype\u001b[0m\u001b[1;33m,\u001b[0m\u001b[1;33m\u001b[0m\u001b[1;33m\u001b[0m\u001b[0m\n\u001b[1;32m--> 756\u001b[1;33m                     estimator=estimator)\n\u001b[0m\u001b[0;32m    757\u001b[0m     \u001b[1;32mif\u001b[0m \u001b[0mmulti_output\u001b[0m\u001b[1;33m:\u001b[0m\u001b[1;33m\u001b[0m\u001b[1;33m\u001b[0m\u001b[0m\n\u001b[0;32m    758\u001b[0m         y = check_array(y, 'csr', force_all_finite=True, ensure_2d=False,\n",
      "\u001b[1;32m~\\AppData\\Local\\conda\\conda\\envs\\magiclearning\\lib\\site-packages\\sklearn\\utils\\validation.py\u001b[0m in \u001b[0;36mcheck_array\u001b[1;34m(array, accept_sparse, accept_large_sparse, dtype, order, copy, force_all_finite, ensure_2d, allow_nd, ensure_min_samples, ensure_min_features, warn_on_dtype, estimator)\u001b[0m\n\u001b[0;32m    588\u001b[0m                              \u001b[1;34m\" a minimum of %d is required%s.\"\u001b[0m\u001b[1;33m\u001b[0m\u001b[1;33m\u001b[0m\u001b[0m\n\u001b[0;32m    589\u001b[0m                              % (n_features, shape_repr, ensure_min_features,\n\u001b[1;32m--> 590\u001b[1;33m                                 context))\n\u001b[0m\u001b[0;32m    591\u001b[0m \u001b[1;33m\u001b[0m\u001b[0m\n\u001b[0;32m    592\u001b[0m     \u001b[1;32mif\u001b[0m \u001b[0mwarn_on_dtype\u001b[0m \u001b[1;32mand\u001b[0m \u001b[0mdtype_orig\u001b[0m \u001b[1;32mis\u001b[0m \u001b[1;32mnot\u001b[0m \u001b[1;32mNone\u001b[0m \u001b[1;32mand\u001b[0m \u001b[0marray\u001b[0m\u001b[1;33m.\u001b[0m\u001b[0mdtype\u001b[0m \u001b[1;33m!=\u001b[0m \u001b[0mdtype_orig\u001b[0m\u001b[1;33m:\u001b[0m\u001b[1;33m\u001b[0m\u001b[1;33m\u001b[0m\u001b[0m\n",
      "\u001b[1;31mValueError\u001b[0m: Found array with 0 feature(s) (shape=(1, 0)) while a minimum of 1 is required."
     ]
    }
   ],
   "source": [
    "clf = MLPClassifier((28, 8), activation='relu')\n",
    "clf.fit([[0,0,0,0,0,0,0,0,0, 0]], [0])\n",
    "clf.coefs_[1]\n",
    "test_weights = transform_to_weights(np.array(list(range(100, 100 + 397))).astype('double'), shapes)\n",
    "    \n",
    "def set_weights_sk(clf, weights):\n",
    "    for i in range(len(weights)):\n",
    "        clf.coefs_[i] = weights[i][0]\n",
    "        clf.intercepts_[i] = weights[i][1] \n",
    "set_weights_sk(clf, test_weights)\n",
    "print(clf.coefs_)\n",
    "clf.fit([[]], [])\n",
    "clf.predict([[10,10,10,10,10,10,10,10,10,10]])"
   ]
  },
  {
   "cell_type": "code",
   "execution_count": null,
   "metadata": {},
   "outputs": [],
   "source": [
    "print(X_train.shape)\n",
    "cl"
   ]
  },
  {
   "cell_type": "code",
   "execution_count": null,
   "metadata": {
    "scrolled": true
   },
   "outputs": [],
   "source": [
    "import mlrose\n",
    "from mlrose import opt_probs, algorithms\n",
    "from mlrose import fitness as fitness\n",
    "import importlib\n",
    "importlib.reload(mlrose.opt_probs)\n",
    "importlib.reload(mlrose.algorithms)\n",
    "\n",
    "\n",
    "def fit(weights, model, X, y):\n",
    "    set_weights(model, transform_to_weights(weights, shapes))\n",
    "    print(\"end set weights\")\n",
    "    y_ = model.predict(X)\n",
    "    print(\"predict\")\n",
    "    y_ = np.where(y_ > 0.5, 1, 0)\n",
    "    return metrics.accuracy_score(y, y_)\n",
    "#     return 0\n",
    "\n",
    "\n",
    "def fit_sk(weights, clf, X, y):\n",
    "    set_weights_sk(clf, transform_to_weights(weights, shapes))\n",
    "    y_ = model.predict(X)\n",
    "    y_ = np.where(y_ > 0.5, 1, 0)\n",
    "    return metrics.accuracy_score(y, y_)\n",
    "#     return 0\n",
    "\n",
    "import time\n",
    "kwargs = {'model': model, 'X': X_train.values, 'y': y_train.values}\n",
    "NNfitness = fitness.CustomFitness(fit, **kwargs)\n",
    "state = np.array(range(397))\n",
    "\n",
    "kwargs_test = {'model': model, 'X': X_val.values, 'y': y_val.values}\n",
    "\n",
    "testFitness = fitness.CustomFitness(fit, **kwargs_test)\n",
    "\n",
    "problem = opt_probs.ContinuousOpt(num_weights, NNfitness, min_val = -3, max_val = 3, step=.1)\n",
    "scores, valid_scores, best_state, best_fitness = algorithms.random_hill_climb(problem, max_attempts=40, restarts=10, test=fit, **kwargs_test)\n"
   ]
  },
  {
   "cell_type": "code",
   "execution_count": null,
   "metadata": {},
   "outputs": [],
   "source": [
    "import mlrose\n",
    "from mlrose import opt_probs, algorithms\n",
    "from mlrose import fitness as fitness\n",
    "import importlib\n",
    "importlib.reload(mlrose.opt_probs)\n",
    "importlib.reload(mlrose.algorithms)\n",
    "\n",
    "def fit_sk(weights, clf, X, y):\n",
    "    set_weights_sk(clf, transform_to_weights(weights, shapes))\n",
    "    y_ = clf.predict(X)\n",
    "    return metrics.accuracy_score(y, y_)\n",
    "\n",
    "import time\n",
    "kwargs = {'clf': clf, 'X': X_train.values, 'y': y_train.values}\n",
    "NNfitness = fitness.CustomFitness(fit_sk, **kwargs)\n",
    "state = np.array(range(397))\n",
    "\n",
    "kwargs_test = {'clf': clf, 'X': X_val.values, 'y': y_val.values}\n",
    "\n",
    "testFitness = fitness.CustomFitness(fit_sk, **kwargs_test)\n",
    "\n",
    "problem = opt_probs.ContinuousOpt(num_weights, NNfitness, min_val = -3, max_val = 3, step=.1)\n",
    "scores, valid_scores, best_state, best_fitness = algorithms.random_hill_climb(problem, max_attempts=40, restarts=10, test=fit, **kwargs_test)\n"
   ]
  },
  {
   "cell_type": "code",
   "execution_count": 19,
   "metadata": {},
   "outputs": [],
   "source": [
    "import mlrose\n",
    "from mlrose import opt_probs, algorithms\n",
    "from mlrose import fitness as fitness\n",
    "import importlib\n",
    "importlib.reload(mlrose.opt_probs)\n",
    "importlib.reload(mlrose.algorithms)\n",
    "\n",
    "def fit_np(weights, NN_ARCHITECTURE, X, y):\n",
    "    y_, _ = full_forward_propagation(X.transpose(),  transform_to_weights(weights, shapes), NN_ARCHITECTURE)\n",
    "    y_ = np.where(y_ > 0.5, 1, 0).flatten()\n",
    "#     print(y_)\n",
    "    return metrics.accuracy_score(y, y_)\n",
    "\n",
    "import time\n",
    "kwargs = {'NN_ARCHITECTURE': NN_ARCHITECTURE, 'X': X_train.values, 'y': y_train.values}\n",
    "NNfitness = fitness.CustomFitness(fit_np, **kwargs)\n",
    "state = np.array(range(397))\n",
    "\n",
    "kwargs_test = {'NN_ARCHITECTURE': NN_ARCHITECTURE, 'X': X_val.values, 'y': y_val.values}\n",
    "\n",
    "testFitness = fitness.CustomFitness(fit_np, **kwargs_test)\n",
    "\n",
    "problem = opt_probs.ContinuousOpt(num_weights, NNfitness, min_val = -3, max_val = 3, step=.3)\n",
    "#scores, valid_scores, best_state, best_fitness = algorithms.random_hill_climb(problem, max_attempts=40, restarts=10, test=fit_np, **kwargs_test)\n"
   ]
  },
  {
   "cell_type": "code",
   "execution_count": null,
   "metadata": {},
   "outputs": [],
   "source": []
  },
  {
   "cell_type": "markdown",
   "metadata": {},
   "source": [
    "11:42 - 12:04 stepsize =.2\n",
    "12:04"
   ]
  },
  {
   "cell_type": "code",
   "execution_count": 161,
   "metadata": {
    "scrolled": true
   },
   "outputs": [
    {
     "name": "stdout",
     "output_type": "stream",
     "text": [
      "2644\n",
      "0.7228575184016824\n"
     ]
    }
   ],
   "source": [
    "print(len(scores))\n",
    "print(np.max(scores))"
   ]
  },
  {
   "cell_type": "code",
   "execution_count": 162,
   "metadata": {},
   "outputs": [
    {
     "data": {
      "image/png": "[encoded data removed]",
      "text/plain": [
       "<Figure size 432x288 with 1 Axes>"
      ]
     },
     "metadata": {
      "needs_background": "light"
     },
     "output_type": "display_data"
    }
   ],
   "source": [
    "plt.plot(range(len(scores)), scores)\n",
    "plt.plot(range(len(valid_scores)), valid_scores)\n",
    "mlTest.saveNpArray(scores, \"RHC-NN\", descriptors=\"score-0.3s-40-10r\")\n",
    "mlTest.saveNpArray(valid_scores, \"RHC-NN\", descriptors=\"valid_score-0.3s--40-10r\")"
   ]
  },
  {
   "cell_type": "code",
   "execution_count": 40,
   "metadata": {
    "scrolled": true
   },
   "outputs": [
    {
     "data": {
      "image/png": "[encoded data removed]",
      "text/plain": [
       "<Figure size 432x288 with 1 Axes>"
      ]
     },
     "metadata": {
      "needs_background": "light"
     },
     "output_type": "display_data"
    }
   ],
   "source": [
    "plt.plot(range(len(scores)), scores)\n",
    "mlTest.saveNpArray(scores, \"RHC-NN\", descriptors=\"100a-10r\")"
   ]
  },
  {
   "cell_type": "markdown",
   "metadata": {},
   "source": [
    "Simulated Annealing"
   ]
  },
  {
   "cell_type": "code",
   "execution_count": 182,
   "metadata": {},
   "outputs": [
    {
     "name": "stdout",
     "output_type": "stream",
     "text": [
      "00:01:57ns: 4000\n"
     ]
    }
   ],
   "source": [
    "from mlrose import opt_probs, algorithms\n",
    "from mlrose import fitness as fitness\n",
    "import importlib\n",
    "importlib.reload(mlrose.opt_probs)\n",
    "importlib.reload(mlrose.algorithms)\n",
    "scores, valid_scores, best_state, best_fitness = algorithms.simulated_annealing(problem, max_attempts=40, max_iters=4000,  test=fit_np, **kwargs_test)"
   ]
  },
  {
   "cell_type": "code",
   "execution_count": 183,
   "metadata": {},
   "outputs": [
    {
     "name": "stdout",
     "output_type": "stream",
     "text": [
      "0.7405362776025236\n"
     ]
    }
   ],
   "source": [
    "print(max(scores))"
   ]
  },
  {
   "cell_type": "code",
   "execution_count": 185,
   "metadata": {},
   "outputs": [
    {
     "data": {
      "image/png": "[encoded data removed]",
      "text/plain": [
       "<Figure size 432x288 with 1 Axes>"
      ]
     },
     "metadata": {
      "needs_background": "light"
     },
     "output_type": "display_data"
    }
   ],
   "source": [
    "plt.plot(range(len(scores)), scores)\n",
    "plt.plot(range(len(valid_scores)), valid_scores)\n",
    "mlTest.saveNpArray(scores, \"SA-NN\", descriptors=\"train-geo-4000i-40a\")\n",
    "mlTest.saveNpArray(valid_scores, \"SA-NN\", descriptors=\"valid-geo-4000i-40a\")"
   ]
  },
  {
   "cell_type": "code",
   "execution_count": 29,
   "metadata": {},
   "outputs": [
    {
     "name": "stdout",
     "output_type": "stream",
     "text": [
      "00:02:10ns: 4000 , 0.69170609884332286\n"
     ]
    }
   ],
   "source": [
    "import mlrose\n",
    "from mlrose import opt_probs, algorithms\n",
    "from mlrose import fitness as fitness\n",
    "import importlib\n",
    "importlib.reload(mlrose.opt_probs)\n",
    "importlib.reload(mlrose.algorithms)\n",
    "from mlrose import decay\n",
    "scores, valid_scores, best_state, best_fitness = algorithms.simulated_annealing(problem, schedule=decay.ArithDecay(decay=0.00024975), max_attempts=40, max_iters=4000, test=fit_np, **kwargs_test)"
   ]
  },
  {
   "cell_type": "code",
   "execution_count": 30,
   "metadata": {},
   "outputs": [
    {
     "name": "stdout",
     "output_type": "stream",
     "text": [
      "0.7003154574132492\n"
     ]
    }
   ],
   "source": [
    "print(max(scores))"
   ]
  },
  {
   "cell_type": "code",
   "execution_count": 31,
   "metadata": {},
   "outputs": [
    {
     "data": {
      "image/png": "[encoded data removed]",
      "text/plain": [
       "<Figure size 432x288 with 1 Axes>"
      ]
     },
     "metadata": {
      "needs_background": "light"
     },
     "output_type": "display_data"
    }
   ],
   "source": [
    "plt.plot(range(len(scores)), scores)\n",
    "plt.plot(range(len(valid_scores)), valid_scores)\n",
    "mlTest.saveNpArray(scores, \"SA-NN\", descriptors=\"train-arith-4000i-40a\")\n",
    "mlTest.saveNpArray(valid_scores, \"SA-NN\", descriptors=\"valid-arith-4000i-40a\")"
   ]
  },
  {
   "cell_type": "code",
   "execution_count": 14,
   "metadata": {},
   "outputs": [],
   "source": [
    "from mlrose import opt_probs, algorithms\n",
    "from mlrose import fitness as fitness\n",
    "import importlib\n",
    "importlib.reload(mlrose.opt_probs)\n",
    "importlib.reload(mlrose.algorithms)\n",
    "from mlrose import decay\n",
    "scores, best_state, best_fitness = algorithms.genetic_alg(problem, pop_size=40, mutation_prob=0.1, max_attempts=10, max_iters=100)"
   ]
  },
  {
   "cell_type": "code",
   "execution_count": 91,
   "metadata": {},
   "outputs": [
    {
     "data": {
      "image/png": "[encoded data removed]",
      "text/plain": [
       "<Figure size 432x288 with 1 Axes>"
      ]
     },
     "metadata": {
      "needs_background": "light"
     },
     "output_type": "display_data"
    }
   ],
   "source": [
    "plt.plot(range(len(scores)), scores)\n",
    "mlTest.saveNpArray(scores, \"GA-NN\", descriptors=\"100p-100a-1000i\")"
   ]
  },
  {
   "cell_type": "code",
   "execution_count": 14,
   "metadata": {
    "scrolled": true
   },
   "outputs": [
    {
     "data": {
      "text/plain": [
       "(1902, 10)"
      ]
     },
     "execution_count": 14,
     "metadata": {},
     "output_type": "execute_result"
    }
   ],
   "source": [
    "X_test.shape"
   ]
  },
  {
   "cell_type": "code",
   "execution_count": 18,
   "metadata": {},
   "outputs": [
    {
     "name": "stdout",
     "output_type": "stream",
     "text": [
      "Epoch 1/10\n",
      "1902/1902 [==============================] - 1s 563us/step - loss: 10.1505 - acc: 0.3633\n",
      "Epoch 2/10\n",
      "1902/1902 [==============================] - 0s 146us/step - loss: 10.1505 - acc: 0.3633\n",
      "Epoch 3/10\n",
      "1902/1902 [==============================] - 0s 150us/step - loss: 10.1505 - acc: 0.3633\n",
      "Epoch 4/10\n",
      "1902/1902 [==============================] - 0s 152us/step - loss: 10.1505 - acc: 0.3633\n",
      "Epoch 5/10\n",
      "1902/1902 [==============================] - 0s 150us/step - loss: 10.1505 - acc: 0.3633\n",
      "Epoch 6/10\n",
      "1902/1902 [==============================] - 0s 152us/step - loss: 10.1505 - acc: 0.3633\n",
      "Epoch 7/10\n",
      "1902/1902 [==============================] - 0s 154us/step - loss: 10.1505 - acc: 0.3633\n",
      "Epoch 8/10\n",
      "1536/1902 [=======================>......] - ETA: 0s - loss: 10.1093 - acc: 0.3659"
     ]
    },
    {
     "ename": "KeyboardInterrupt",
     "evalue": "",
     "output_type": "error",
     "traceback": [
      "\u001b[1;31m---------------------------------------------------------------------------\u001b[0m",
      "\u001b[1;31mKeyboardInterrupt\u001b[0m                         Traceback (most recent call last)",
      "\u001b[1;32m<ipython-input-18-f3b0003e08db>\u001b[0m in \u001b[0;36m<module>\u001b[1;34m\u001b[0m\n\u001b[1;32m----> 1\u001b[1;33m \u001b[0my_\u001b[0m \u001b[1;33m=\u001b[0m \u001b[0mmodel\u001b[0m\u001b[1;33m.\u001b[0m\u001b[0mfit\u001b[0m\u001b[1;33m(\u001b[0m\u001b[0mX_test\u001b[0m\u001b[1;33m.\u001b[0m\u001b[0mvalues\u001b[0m\u001b[1;33m,\u001b[0m \u001b[0my_test\u001b[0m\u001b[1;33m.\u001b[0m\u001b[0mvalues\u001b[0m\u001b[1;33m)\u001b[0m\u001b[1;33m\u001b[0m\u001b[1;33m\u001b[0m\u001b[0m\n\u001b[0m",
      "\u001b[1;32m~\\AppData\\Local\\conda\\conda\\envs\\magiclearning\\lib\\site-packages\\keras\\models.py\u001b[0m in \u001b[0;36mfit\u001b[1;34m(self, x, y, batch_size, epochs, verbose, callbacks, validation_split, validation_data, shuffle, class_weight, sample_weight, initial_epoch, **kwargs)\u001b[0m\n\u001b[0;32m    891\u001b[0m                               \u001b[0mclass_weight\u001b[0m\u001b[1;33m=\u001b[0m\u001b[0mclass_weight\u001b[0m\u001b[1;33m,\u001b[0m\u001b[1;33m\u001b[0m\u001b[1;33m\u001b[0m\u001b[0m\n\u001b[0;32m    892\u001b[0m                               \u001b[0msample_weight\u001b[0m\u001b[1;33m=\u001b[0m\u001b[0msample_weight\u001b[0m\u001b[1;33m,\u001b[0m\u001b[1;33m\u001b[0m\u001b[1;33m\u001b[0m\u001b[0m\n\u001b[1;32m--> 893\u001b[1;33m                               initial_epoch=initial_epoch)\n\u001b[0m\u001b[0;32m    894\u001b[0m \u001b[1;33m\u001b[0m\u001b[0m\n\u001b[0;32m    895\u001b[0m     def evaluate(self, x, y, batch_size=32, verbose=1,\n",
      "\u001b[1;32m~\\AppData\\Local\\conda\\conda\\envs\\magiclearning\\lib\\site-packages\\keras\\engine\\training.py\u001b[0m in \u001b[0;36mfit\u001b[1;34m(self, x, y, batch_size, epochs, verbose, callbacks, validation_split, validation_data, shuffle, class_weight, sample_weight, initial_epoch, steps_per_epoch, validation_steps, **kwargs)\u001b[0m\n\u001b[0;32m   1629\u001b[0m                               \u001b[0minitial_epoch\u001b[0m\u001b[1;33m=\u001b[0m\u001b[0minitial_epoch\u001b[0m\u001b[1;33m,\u001b[0m\u001b[1;33m\u001b[0m\u001b[1;33m\u001b[0m\u001b[0m\n\u001b[0;32m   1630\u001b[0m                               \u001b[0msteps_per_epoch\u001b[0m\u001b[1;33m=\u001b[0m\u001b[0msteps_per_epoch\u001b[0m\u001b[1;33m,\u001b[0m\u001b[1;33m\u001b[0m\u001b[1;33m\u001b[0m\u001b[0m\n\u001b[1;32m-> 1631\u001b[1;33m                               validation_steps=validation_steps)\n\u001b[0m\u001b[0;32m   1632\u001b[0m \u001b[1;33m\u001b[0m\u001b[0m\n\u001b[0;32m   1633\u001b[0m     def evaluate(self, x=None, y=None,\n",
      "\u001b[1;32m~\\AppData\\Local\\conda\\conda\\envs\\magiclearning\\lib\\site-packages\\keras\\engine\\training.py\u001b[0m in \u001b[0;36m_fit_loop\u001b[1;34m(self, f, ins, out_labels, batch_size, epochs, verbose, callbacks, val_f, val_ins, shuffle, callback_metrics, initial_epoch, steps_per_epoch, validation_steps)\u001b[0m\n\u001b[0;32m   1211\u001b[0m                     \u001b[0mbatch_logs\u001b[0m\u001b[1;33m[\u001b[0m\u001b[1;34m'size'\u001b[0m\u001b[1;33m]\u001b[0m \u001b[1;33m=\u001b[0m \u001b[0mlen\u001b[0m\u001b[1;33m(\u001b[0m\u001b[0mbatch_ids\u001b[0m\u001b[1;33m)\u001b[0m\u001b[1;33m\u001b[0m\u001b[1;33m\u001b[0m\u001b[0m\n\u001b[0;32m   1212\u001b[0m                     \u001b[0mcallbacks\u001b[0m\u001b[1;33m.\u001b[0m\u001b[0mon_batch_begin\u001b[0m\u001b[1;33m(\u001b[0m\u001b[0mbatch_index\u001b[0m\u001b[1;33m,\u001b[0m \u001b[0mbatch_logs\u001b[0m\u001b[1;33m)\u001b[0m\u001b[1;33m\u001b[0m\u001b[1;33m\u001b[0m\u001b[0m\n\u001b[1;32m-> 1213\u001b[1;33m                     \u001b[0mouts\u001b[0m \u001b[1;33m=\u001b[0m \u001b[0mf\u001b[0m\u001b[1;33m(\u001b[0m\u001b[0mins_batch\u001b[0m\u001b[1;33m)\u001b[0m\u001b[1;33m\u001b[0m\u001b[1;33m\u001b[0m\u001b[0m\n\u001b[0m\u001b[0;32m   1214\u001b[0m                     \u001b[1;32mif\u001b[0m \u001b[1;32mnot\u001b[0m \u001b[0misinstance\u001b[0m\u001b[1;33m(\u001b[0m\u001b[0mouts\u001b[0m\u001b[1;33m,\u001b[0m \u001b[0mlist\u001b[0m\u001b[1;33m)\u001b[0m\u001b[1;33m:\u001b[0m\u001b[1;33m\u001b[0m\u001b[1;33m\u001b[0m\u001b[0m\n\u001b[0;32m   1215\u001b[0m                         \u001b[0mouts\u001b[0m \u001b[1;33m=\u001b[0m \u001b[1;33m[\u001b[0m\u001b[0mouts\u001b[0m\u001b[1;33m]\u001b[0m\u001b[1;33m\u001b[0m\u001b[1;33m\u001b[0m\u001b[0m\n",
      "\u001b[1;32m~\\AppData\\Local\\conda\\conda\\envs\\magiclearning\\lib\\site-packages\\keras\\backend\\tensorflow_backend.py\u001b[0m in \u001b[0;36m__call__\u001b[1;34m(self, inputs)\u001b[0m\n\u001b[0;32m   2330\u001b[0m         updated = session.run(self.outputs + [self.updates_op],\n\u001b[0;32m   2331\u001b[0m                               \u001b[0mfeed_dict\u001b[0m\u001b[1;33m=\u001b[0m\u001b[0mfeed_dict\u001b[0m\u001b[1;33m,\u001b[0m\u001b[1;33m\u001b[0m\u001b[1;33m\u001b[0m\u001b[0m\n\u001b[1;32m-> 2332\u001b[1;33m                               **self.session_kwargs)\n\u001b[0m\u001b[0;32m   2333\u001b[0m         \u001b[1;32mreturn\u001b[0m \u001b[0mupdated\u001b[0m\u001b[1;33m[\u001b[0m\u001b[1;33m:\u001b[0m\u001b[0mlen\u001b[0m\u001b[1;33m(\u001b[0m\u001b[0mself\u001b[0m\u001b[1;33m.\u001b[0m\u001b[0moutputs\u001b[0m\u001b[1;33m)\u001b[0m\u001b[1;33m]\u001b[0m\u001b[1;33m\u001b[0m\u001b[1;33m\u001b[0m\u001b[0m\n\u001b[0;32m   2334\u001b[0m \u001b[1;33m\u001b[0m\u001b[0m\n",
      "\u001b[1;32m~\\AppData\\Local\\conda\\conda\\envs\\magiclearning\\lib\\site-packages\\tensorflow\\python\\client\\session.py\u001b[0m in \u001b[0;36mrun\u001b[1;34m(self, fetches, feed_dict, options, run_metadata)\u001b[0m\n\u001b[0;32m    776\u001b[0m     \u001b[1;32mtry\u001b[0m\u001b[1;33m:\u001b[0m\u001b[1;33m\u001b[0m\u001b[1;33m\u001b[0m\u001b[0m\n\u001b[0;32m    777\u001b[0m       result = self._run(None, fetches, feed_dict, options_ptr,\n\u001b[1;32m--> 778\u001b[1;33m                          run_metadata_ptr)\n\u001b[0m\u001b[0;32m    779\u001b[0m       \u001b[1;32mif\u001b[0m \u001b[0mrun_metadata\u001b[0m\u001b[1;33m:\u001b[0m\u001b[1;33m\u001b[0m\u001b[1;33m\u001b[0m\u001b[0m\n\u001b[0;32m    780\u001b[0m         \u001b[0mproto_data\u001b[0m \u001b[1;33m=\u001b[0m \u001b[0mtf_session\u001b[0m\u001b[1;33m.\u001b[0m\u001b[0mTF_GetBuffer\u001b[0m\u001b[1;33m(\u001b[0m\u001b[0mrun_metadata_ptr\u001b[0m\u001b[1;33m)\u001b[0m\u001b[1;33m\u001b[0m\u001b[1;33m\u001b[0m\u001b[0m\n",
      "\u001b[1;32m~\\AppData\\Local\\conda\\conda\\envs\\magiclearning\\lib\\site-packages\\tensorflow\\python\\client\\session.py\u001b[0m in \u001b[0;36m_run\u001b[1;34m(self, handle, fetches, feed_dict, options, run_metadata)\u001b[0m\n\u001b[0;32m    980\u001b[0m     \u001b[1;32mif\u001b[0m \u001b[0mfinal_fetches\u001b[0m \u001b[1;32mor\u001b[0m \u001b[0mfinal_targets\u001b[0m\u001b[1;33m:\u001b[0m\u001b[1;33m\u001b[0m\u001b[1;33m\u001b[0m\u001b[0m\n\u001b[0;32m    981\u001b[0m       results = self._do_run(handle, final_targets, final_fetches,\n\u001b[1;32m--> 982\u001b[1;33m                              feed_dict_string, options, run_metadata)\n\u001b[0m\u001b[0;32m    983\u001b[0m     \u001b[1;32melse\u001b[0m\u001b[1;33m:\u001b[0m\u001b[1;33m\u001b[0m\u001b[1;33m\u001b[0m\u001b[0m\n\u001b[0;32m    984\u001b[0m       \u001b[0mresults\u001b[0m \u001b[1;33m=\u001b[0m \u001b[1;33m[\u001b[0m\u001b[1;33m]\u001b[0m\u001b[1;33m\u001b[0m\u001b[1;33m\u001b[0m\u001b[0m\n",
      "\u001b[1;32m~\\AppData\\Local\\conda\\conda\\envs\\magiclearning\\lib\\site-packages\\tensorflow\\python\\client\\session.py\u001b[0m in \u001b[0;36m_do_run\u001b[1;34m(self, handle, target_list, fetch_list, feed_dict, options, run_metadata)\u001b[0m\n\u001b[0;32m   1030\u001b[0m     \u001b[1;32mif\u001b[0m \u001b[0mhandle\u001b[0m \u001b[1;32mis\u001b[0m \u001b[1;32mNone\u001b[0m\u001b[1;33m:\u001b[0m\u001b[1;33m\u001b[0m\u001b[1;33m\u001b[0m\u001b[0m\n\u001b[0;32m   1031\u001b[0m       return self._do_call(_run_fn, self._session, feed_dict, fetch_list,\n\u001b[1;32m-> 1032\u001b[1;33m                            target_list, options, run_metadata)\n\u001b[0m\u001b[0;32m   1033\u001b[0m     \u001b[1;32melse\u001b[0m\u001b[1;33m:\u001b[0m\u001b[1;33m\u001b[0m\u001b[1;33m\u001b[0m\u001b[0m\n\u001b[0;32m   1034\u001b[0m       return self._do_call(_prun_fn, self._session, handle, feed_dict,\n",
      "\u001b[1;32m~\\AppData\\Local\\conda\\conda\\envs\\magiclearning\\lib\\site-packages\\tensorflow\\python\\client\\session.py\u001b[0m in \u001b[0;36m_do_call\u001b[1;34m(self, fn, *args)\u001b[0m\n\u001b[0;32m   1037\u001b[0m   \u001b[1;32mdef\u001b[0m \u001b[0m_do_call\u001b[0m\u001b[1;33m(\u001b[0m\u001b[0mself\u001b[0m\u001b[1;33m,\u001b[0m \u001b[0mfn\u001b[0m\u001b[1;33m,\u001b[0m \u001b[1;33m*\u001b[0m\u001b[0margs\u001b[0m\u001b[1;33m)\u001b[0m\u001b[1;33m:\u001b[0m\u001b[1;33m\u001b[0m\u001b[1;33m\u001b[0m\u001b[0m\n\u001b[0;32m   1038\u001b[0m     \u001b[1;32mtry\u001b[0m\u001b[1;33m:\u001b[0m\u001b[1;33m\u001b[0m\u001b[1;33m\u001b[0m\u001b[0m\n\u001b[1;32m-> 1039\u001b[1;33m       \u001b[1;32mreturn\u001b[0m \u001b[0mfn\u001b[0m\u001b[1;33m(\u001b[0m\u001b[1;33m*\u001b[0m\u001b[0margs\u001b[0m\u001b[1;33m)\u001b[0m\u001b[1;33m\u001b[0m\u001b[1;33m\u001b[0m\u001b[0m\n\u001b[0m\u001b[0;32m   1040\u001b[0m     \u001b[1;32mexcept\u001b[0m \u001b[0merrors\u001b[0m\u001b[1;33m.\u001b[0m\u001b[0mOpError\u001b[0m \u001b[1;32mas\u001b[0m \u001b[0me\u001b[0m\u001b[1;33m:\u001b[0m\u001b[1;33m\u001b[0m\u001b[1;33m\u001b[0m\u001b[0m\n\u001b[0;32m   1041\u001b[0m       \u001b[0mmessage\u001b[0m \u001b[1;33m=\u001b[0m \u001b[0mcompat\u001b[0m\u001b[1;33m.\u001b[0m\u001b[0mas_text\u001b[0m\u001b[1;33m(\u001b[0m\u001b[0me\u001b[0m\u001b[1;33m.\u001b[0m\u001b[0mmessage\u001b[0m\u001b[1;33m)\u001b[0m\u001b[1;33m\u001b[0m\u001b[1;33m\u001b[0m\u001b[0m\n",
      "\u001b[1;32m~\\AppData\\Local\\conda\\conda\\envs\\magiclearning\\lib\\site-packages\\tensorflow\\python\\client\\session.py\u001b[0m in \u001b[0;36m_run_fn\u001b[1;34m(session, feed_dict, fetch_list, target_list, options, run_metadata)\u001b[0m\n\u001b[0;32m   1019\u001b[0m         return tf_session.TF_Run(session, options,\n\u001b[0;32m   1020\u001b[0m                                  \u001b[0mfeed_dict\u001b[0m\u001b[1;33m,\u001b[0m \u001b[0mfetch_list\u001b[0m\u001b[1;33m,\u001b[0m \u001b[0mtarget_list\u001b[0m\u001b[1;33m,\u001b[0m\u001b[1;33m\u001b[0m\u001b[1;33m\u001b[0m\u001b[0m\n\u001b[1;32m-> 1021\u001b[1;33m                                  status, run_metadata)\n\u001b[0m\u001b[0;32m   1022\u001b[0m \u001b[1;33m\u001b[0m\u001b[0m\n\u001b[0;32m   1023\u001b[0m     \u001b[1;32mdef\u001b[0m \u001b[0m_prun_fn\u001b[0m\u001b[1;33m(\u001b[0m\u001b[0msession\u001b[0m\u001b[1;33m,\u001b[0m \u001b[0mhandle\u001b[0m\u001b[1;33m,\u001b[0m \u001b[0mfeed_dict\u001b[0m\u001b[1;33m,\u001b[0m \u001b[0mfetch_list\u001b[0m\u001b[1;33m)\u001b[0m\u001b[1;33m:\u001b[0m\u001b[1;33m\u001b[0m\u001b[1;33m\u001b[0m\u001b[0m\n",
      "\u001b[1;31mKeyboardInterrupt\u001b[0m: "
     ]
    }
   ],
   "source": [
    "y_ = model.fit(X_test.values, y_test.values)"
   ]
  },
  {
   "cell_type": "code",
   "execution_count": 35,
   "metadata": {},
   "outputs": [
    {
     "name": "stdout",
     "output_type": "stream",
     "text": [
      "0.7108307045215563\n",
      "0.7108307045215563\n",
      "0.7108307045215563\n",
      "0.7108307045215563\n",
      "0.7108307045215563\n",
      "0.7108307045215563\n",
      "0.7164826498422713\n",
      "0.7164826498422713\n",
      "0.7164826498422713\n",
      "0.7164826498422713\n",
      "0.7164826498422713\n",
      "0.7164826498422713\n",
      "0.7164826498422713\n",
      "0.7164826498422713\n",
      "0.7164826498422713\n",
      "0.7164826498422713\n",
      "0.7164826498422713\n",
      "00:01:58\n"
     ]
    }
   ],
   "source": [
    "import mlrose\n",
    "from mlrose import opt_probs, algorithms\n",
    "from mlrose import fitness as fitness\n",
    "import importlib\n",
    "importlib.reload(mlrose.opt_probs)\n",
    "importlib.reload(mlrose.algorithms)\n",
    "from mlrose import decay\n",
    "scores, valid_scores, best_state, best_fitness = algorithms.genetic_alg(problem, mutation_prob=0.1, pop_size=400, max_attempts=10, max_iters=100, test=fit_np, **kwargs_test)"
   ]
  },
  {
   "cell_type": "code",
   "execution_count": 37,
   "metadata": {},
   "outputs": [
    {
     "name": "stdout",
     "output_type": "stream",
     "text": [
      "0.7164826498422713\n"
     ]
    },
    {
     "data": {
      "image/png": "[encoded data removed]",
      "text/plain": [
       "<Figure size 432x288 with 1 Axes>"
      ]
     },
     "metadata": {
      "needs_background": "light"
     },
     "output_type": "display_data"
    }
   ],
   "source": [
    "print(max(scores))\n",
    "plt.plot(range(len(scores)), scores)\n",
    "plt.plot(range(len(valid_scores)), valid_scores)\n",
    "mlTest.saveNpArray(scores, \"GA-NN\", descriptors=\"test-400p-10a-100i\")\n",
    "mlTest.saveNpArray(valid_scores, \"GA-NN\", descriptors=\"valid-400p-10a-100i\")"
   ]
  },
  {
   "cell_type": "code",
   "execution_count": null,
   "metadata": {},
   "outputs": [],
   "source": []
  }
 ],
 "metadata": {
  "kernelspec": {
   "display_name": "Python 3",
   "language": "python",
   "name": "python3"
  },
  "language_info": {
   "codemirror_mode": {
    "name": "ipython",
    "version": 3
   },
   "file_extension": ".py",
   "mimetype": "text/x-python",
   "name": "python",
   "nbconvert_exporter": "python",
   "pygments_lexer": "ipython3",
   "version": "3.6.7"
  }
 },
 "nbformat": 4,
 "nbformat_minor": 2
}
